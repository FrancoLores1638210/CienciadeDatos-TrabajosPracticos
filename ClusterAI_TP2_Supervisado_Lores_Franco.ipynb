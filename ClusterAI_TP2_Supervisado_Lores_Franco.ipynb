{
 "cells": [
  {
   "cell_type": "markdown",
   "metadata": {
    "id": "P3ANPsbtkuXj"
   },
   "source": [
    "## **Trabajo Práctico Individual n° 2: Aprendizaje Supervisado**\n",
    "____\n",
    "__Universidad Tecnológica Nacional, Buenos Aires__\\\n",
    "__Ingeniería Industrial__\\\n",
    "__Ciencia de Datos - Curso I5521__\n",
    "____"
   ]
  },
  {
   "cell_type": "markdown",
   "metadata": {
    "id": "cTPsPHb_lWTE"
   },
   "source": [
    "- Nombre: Franco\n",
    "- Apellido: Lores\n",
    "- Legajo: 1638210"
   ]
  },
  {
   "cell_type": "markdown",
   "metadata": {
    "id": "E5W-65MskuXx"
   },
   "source": [
    "En este trabajo práctico aplicaremos algunas técnicas aprendidas para el aprendizaje automático supervisado.\n",
    "\n",
    "Utilizaremos un dataset de airbnb donde buscaremos predecir el precio de las noches de cada hogar en funcion de algunas variables."
   ]
  },
  {
   "cell_type": "markdown",
   "metadata": {
    "id": "mKUpHSLqkuXz"
   },
   "source": [
    "#### Variables:\n",
    "- Unnamed: 0: Variable de contador de registros (no será utilizada en nuetro análisis)\n",
    "- neighbourhood: Barrio donde se encuentra ubicado la casa.\n",
    "- room_type: Tipo de hogar en alquiler.\n",
    "- price: Precio por noche.\n",
    "- minimum_nights: Cantidad minimas de noches que pueden alquilar el hogar.\n",
    "- number_of_reviews: Cantidad de reviews\n",
    "- reviews_per_month: Tasa de reviews que tienen por mes\n",
    "- calculated_host_listings_count: Cantidad de hogares ofrecidos por el host.\n",
    "- availability_365: Cantidad de dias que se encuentra en alquiler el hogar"
   ]
  },
  {
   "cell_type": "markdown",
   "metadata": {
    "id": "hWk9Vqs8l5jg"
   },
   "source": [
    "## **Objetivos del trabajo practico**\n",
    "- resolver los requisitos que se detallan en las proximas celdas\n",
    "- dejar comentarios # en cada linea de codigo que se agregue\n",
    "- fecha limite de entrega: 13 de Octubre 2022 a las 23h59"
   ]
  },
  {
   "cell_type": "code",
   "execution_count": 1,
   "metadata": {
    "id": "7VzMW3fvkuX0"
   },
   "outputs": [],
   "source": [
    "## Importo librerías de maniupulación de datos\n",
    "import pandas as pd\n",
    "import numpy as np\n",
    "import seaborn as sns\n",
    "import matplotlib.pyplot as plt"
   ]
  },
  {
   "cell_type": "code",
   "execution_count": 2,
   "metadata": {
    "id": "NFgDAUVLNfhE"
   },
   "outputs": [],
   "source": [
    "## Importo librerías de Aprendizaje automático\n",
    "from sklearn import preprocessing\n",
    "from sklearn import linear_model\n",
    "from sklearn.model_selection import train_test_split, cross_val_score\n",
    "from sklearn.metrics import r2_score, mean_squared_error\n",
    "from sklearn.utils import shuffle\n",
    "from sklearn.preprocessing import StandardScaler\n",
    "from sklearn import preprocessing\n",
    "from sklearn.preprocessing import LabelEncoder\n",
    "from sklearn.linear_model import LinearRegression\n",
    "from sklearn.svm import SVR, LinearSVR\n",
    "from sklearn.metrics import mean_squared_error, make_scorer\n",
    "from sklearn.model_selection import GridSearchCV"
   ]
  },
  {
   "cell_type": "markdown",
   "metadata": {
    "id": "v7h4SOeAkuX4"
   },
   "source": [
    "##### **Objetivo 1**\n",
    "Lo primero que deberan hacer será importar\n",
    "- el dataset bajo en nombre \"london\"\n",
    "- corroborar que lo hayamos cargado correctamente."
   ]
  },
  {
   "cell_type": "code",
   "execution_count": 3,
   "metadata": {
    "id": "2EOIgMedmgBM"
   },
   "outputs": [
    {
     "data": {
      "text/html": [
       "<div>\n",
       "<style scoped>\n",
       "    .dataframe tbody tr th:only-of-type {\n",
       "        vertical-align: middle;\n",
       "    }\n",
       "\n",
       "    .dataframe tbody tr th {\n",
       "        vertical-align: top;\n",
       "    }\n",
       "\n",
       "    .dataframe thead th {\n",
       "        text-align: right;\n",
       "    }\n",
       "</style>\n",
       "<table border=\"1\" class=\"dataframe\">\n",
       "  <thead>\n",
       "    <tr style=\"text-align: right;\">\n",
       "      <th></th>\n",
       "      <th>Unnamed: 0</th>\n",
       "      <th>neighbourhood</th>\n",
       "      <th>room_type</th>\n",
       "      <th>price</th>\n",
       "      <th>minimum_nights</th>\n",
       "      <th>number_of_reviews</th>\n",
       "      <th>reviews_per_month</th>\n",
       "      <th>calculated_host_listings_count</th>\n",
       "      <th>availability_365</th>\n",
       "    </tr>\n",
       "  </thead>\n",
       "  <tbody>\n",
       "    <tr>\n",
       "      <th>0</th>\n",
       "      <td>0</td>\n",
       "      <td>Haringey</td>\n",
       "      <td>Private room</td>\n",
       "      <td>35</td>\n",
       "      <td>1</td>\n",
       "      <td>131</td>\n",
       "      <td>1.71</td>\n",
       "      <td>4</td>\n",
       "      <td>262</td>\n",
       "    </tr>\n",
       "    <tr>\n",
       "      <th>1</th>\n",
       "      <td>1</td>\n",
       "      <td>Ealing</td>\n",
       "      <td>Private room</td>\n",
       "      <td>70</td>\n",
       "      <td>2</td>\n",
       "      <td>2</td>\n",
       "      <td>0.07</td>\n",
       "      <td>6</td>\n",
       "      <td>62</td>\n",
       "    </tr>\n",
       "    <tr>\n",
       "      <th>2</th>\n",
       "      <td>2</td>\n",
       "      <td>Islington</td>\n",
       "      <td>Private room</td>\n",
       "      <td>45</td>\n",
       "      <td>1</td>\n",
       "      <td>14</td>\n",
       "      <td>0.14</td>\n",
       "      <td>2</td>\n",
       "      <td>364</td>\n",
       "    </tr>\n",
       "    <tr>\n",
       "      <th>3</th>\n",
       "      <td>5</td>\n",
       "      <td>Tower Hamlets</td>\n",
       "      <td>Entire home/apt</td>\n",
       "      <td>102</td>\n",
       "      <td>5</td>\n",
       "      <td>7</td>\n",
       "      <td>0.07</td>\n",
       "      <td>56</td>\n",
       "      <td>295</td>\n",
       "    </tr>\n",
       "    <tr>\n",
       "      <th>4</th>\n",
       "      <td>6</td>\n",
       "      <td>Barnet</td>\n",
       "      <td>Private room</td>\n",
       "      <td>29</td>\n",
       "      <td>5</td>\n",
       "      <td>114</td>\n",
       "      <td>1.13</td>\n",
       "      <td>3</td>\n",
       "      <td>285</td>\n",
       "    </tr>\n",
       "  </tbody>\n",
       "</table>\n",
       "</div>"
      ],
      "text/plain": [
       "   Unnamed: 0  neighbourhood        room_type  price  minimum_nights  \\\n",
       "0           0       Haringey     Private room     35               1   \n",
       "1           1         Ealing     Private room     70               2   \n",
       "2           2      Islington     Private room     45               1   \n",
       "3           5  Tower Hamlets  Entire home/apt    102               5   \n",
       "4           6         Barnet     Private room     29               5   \n",
       "\n",
       "   number_of_reviews  reviews_per_month  calculated_host_listings_count  \\\n",
       "0                131               1.71                               4   \n",
       "1                  2               0.07                               6   \n",
       "2                 14               0.14                               2   \n",
       "3                  7               0.07                              56   \n",
       "4                114               1.13                               3   \n",
       "\n",
       "   availability_365  \n",
       "0               262  \n",
       "1                62  \n",
       "2               364  \n",
       "3               295  \n",
       "4               285  "
      ]
     },
     "execution_count": 3,
     "metadata": {},
     "output_type": "execute_result"
    }
   ],
   "source": [
    "#Importar DataSet\n",
    "london=pd.read_csv('TP2_airbnb_london.csv')\n",
    "\n",
    "#Verificar Correcta Carga\n",
    "london.head()"
   ]
  },
  {
   "cell_type": "markdown",
   "metadata": {
    "id": "LFZY1u8XkuX5"
   },
   "source": [
    "##### **Objetivo 2**\n",
    "Ahora imprimir también las dimensiones del dataset y eliminar la variable \"Unnamed:0\" del dataset.\n",
    "Volver a guardar el dataset sin esta variable bajo el nombre \"london\" "
   ]
  },
  {
   "cell_type": "code",
   "execution_count": 4,
   "metadata": {
    "id": "V6WzWe1JkuX7"
   },
   "outputs": [
    {
     "name": "stdout",
     "output_type": "stream",
     "text": [
      "El DataSet posee 51827 Filas y 8 Columnas.\n"
     ]
    }
   ],
   "source": [
    "#Imprimir Dimensiones del DataSet\n",
    "london=london.drop(columns=['Unnamed: 0'])\n",
    "print(f'El DataSet posee ' +str(np.shape(london)[0]) + ' Filas y ' +str(np.shape(london)[1]) + ' Columnas.')"
   ]
  },
  {
   "cell_type": "markdown",
   "metadata": {
    "id": "i6rbeiRvkuX8"
   },
   "source": [
    "##### **Objetivo 3**\n",
    "Corroborar que el dataset no cuenta con valores nulos, si los hubiera llenarlos todos con 0."
   ]
  },
  {
   "cell_type": "code",
   "execution_count": 5,
   "metadata": {
    "id": "huJVDzyTkuX8"
   },
   "outputs": [
    {
     "data": {
      "text/plain": [
       "neighbourhood                     0\n",
       "room_type                         0\n",
       "price                             0\n",
       "minimum_nights                    0\n",
       "number_of_reviews                 0\n",
       "reviews_per_month                 0\n",
       "calculated_host_listings_count    0\n",
       "availability_365                  0\n",
       "dtype: int64"
      ]
     },
     "execution_count": 5,
     "metadata": {},
     "output_type": "execute_result"
    }
   ],
   "source": [
    "#Corroborar Cantidad Valores Nulos\n",
    "london.isnull().sum()"
   ]
  },
  {
   "cell_type": "markdown",
   "metadata": {
    "id": "J5K3hnLhkuX9"
   },
   "source": [
    "##### **Objetivo 4**\n",
    "Mostrar el tipo de dato para las variables \"neighbourhood\" y \"room_type\"."
   ]
  },
  {
   "cell_type": "code",
   "execution_count": 6,
   "metadata": {},
   "outputs": [
    {
     "data": {
      "text/plain": [
       "neighbourhood    object\n",
       "room_type        object\n",
       "dtype: object"
      ]
     },
     "execution_count": 6,
     "metadata": {},
     "output_type": "execute_result"
    }
   ],
   "source": [
    "#Tipo Variable Room_Type\n",
    "Var1_Var2 = london[[\"neighbourhood\", \"room_type\"]]\n",
    "Var1_Var2.dtypes"
   ]
  },
  {
   "cell_type": "markdown",
   "metadata": {
    "id": "-Pif7gnqkuX-"
   },
   "source": [
    "##### **Objetivo 5**\n",
    "Generar las variables dummies para estas dos variables categóricas y unirlas al dataset london.\n"
   ]
  },
  {
   "cell_type": "code",
   "execution_count": 7,
   "metadata": {
    "id": "WQ2GszPKNfhI"
   },
   "outputs": [],
   "source": [
    "## Genero las dummies para la variable neighbourhood, dentro de la variable neigh_dummies.\n",
    "neigh_dummies = pd.get_dummies(london['neighbourhood'])"
   ]
  },
  {
   "cell_type": "markdown",
   "metadata": {
    "id": "D9raTKcGNfhJ"
   },
   "source": [
    "Imprimir las dimensiones y primeras lineas de estas dummies"
   ]
  },
  {
   "cell_type": "code",
   "execution_count": 8,
   "metadata": {
    "id": "x5aYhwWcNfhJ"
   },
   "outputs": [
    {
     "data": {
      "text/html": [
       "<div>\n",
       "<style scoped>\n",
       "    .dataframe tbody tr th:only-of-type {\n",
       "        vertical-align: middle;\n",
       "    }\n",
       "\n",
       "    .dataframe tbody tr th {\n",
       "        vertical-align: top;\n",
       "    }\n",
       "\n",
       "    .dataframe thead th {\n",
       "        text-align: right;\n",
       "    }\n",
       "</style>\n",
       "<table border=\"1\" class=\"dataframe\">\n",
       "  <thead>\n",
       "    <tr style=\"text-align: right;\">\n",
       "      <th></th>\n",
       "      <th>Barking and Dagenham</th>\n",
       "      <th>Barnet</th>\n",
       "      <th>Bexley</th>\n",
       "      <th>Brent</th>\n",
       "      <th>Bromley</th>\n",
       "      <th>Camden</th>\n",
       "      <th>City of London</th>\n",
       "      <th>Croydon</th>\n",
       "      <th>Ealing</th>\n",
       "      <th>Enfield</th>\n",
       "      <th>...</th>\n",
       "      <th>Merton</th>\n",
       "      <th>Newham</th>\n",
       "      <th>Redbridge</th>\n",
       "      <th>Richmond upon Thames</th>\n",
       "      <th>Southwark</th>\n",
       "      <th>Sutton</th>\n",
       "      <th>Tower Hamlets</th>\n",
       "      <th>Waltham Forest</th>\n",
       "      <th>Wandsworth</th>\n",
       "      <th>Westminster</th>\n",
       "    </tr>\n",
       "  </thead>\n",
       "  <tbody>\n",
       "    <tr>\n",
       "      <th>0</th>\n",
       "      <td>0</td>\n",
       "      <td>0</td>\n",
       "      <td>0</td>\n",
       "      <td>0</td>\n",
       "      <td>0</td>\n",
       "      <td>0</td>\n",
       "      <td>0</td>\n",
       "      <td>0</td>\n",
       "      <td>0</td>\n",
       "      <td>0</td>\n",
       "      <td>...</td>\n",
       "      <td>0</td>\n",
       "      <td>0</td>\n",
       "      <td>0</td>\n",
       "      <td>0</td>\n",
       "      <td>0</td>\n",
       "      <td>0</td>\n",
       "      <td>0</td>\n",
       "      <td>0</td>\n",
       "      <td>0</td>\n",
       "      <td>0</td>\n",
       "    </tr>\n",
       "    <tr>\n",
       "      <th>1</th>\n",
       "      <td>0</td>\n",
       "      <td>0</td>\n",
       "      <td>0</td>\n",
       "      <td>0</td>\n",
       "      <td>0</td>\n",
       "      <td>0</td>\n",
       "      <td>0</td>\n",
       "      <td>0</td>\n",
       "      <td>1</td>\n",
       "      <td>0</td>\n",
       "      <td>...</td>\n",
       "      <td>0</td>\n",
       "      <td>0</td>\n",
       "      <td>0</td>\n",
       "      <td>0</td>\n",
       "      <td>0</td>\n",
       "      <td>0</td>\n",
       "      <td>0</td>\n",
       "      <td>0</td>\n",
       "      <td>0</td>\n",
       "      <td>0</td>\n",
       "    </tr>\n",
       "    <tr>\n",
       "      <th>2</th>\n",
       "      <td>0</td>\n",
       "      <td>0</td>\n",
       "      <td>0</td>\n",
       "      <td>0</td>\n",
       "      <td>0</td>\n",
       "      <td>0</td>\n",
       "      <td>0</td>\n",
       "      <td>0</td>\n",
       "      <td>0</td>\n",
       "      <td>0</td>\n",
       "      <td>...</td>\n",
       "      <td>0</td>\n",
       "      <td>0</td>\n",
       "      <td>0</td>\n",
       "      <td>0</td>\n",
       "      <td>0</td>\n",
       "      <td>0</td>\n",
       "      <td>0</td>\n",
       "      <td>0</td>\n",
       "      <td>0</td>\n",
       "      <td>0</td>\n",
       "    </tr>\n",
       "    <tr>\n",
       "      <th>3</th>\n",
       "      <td>0</td>\n",
       "      <td>0</td>\n",
       "      <td>0</td>\n",
       "      <td>0</td>\n",
       "      <td>0</td>\n",
       "      <td>0</td>\n",
       "      <td>0</td>\n",
       "      <td>0</td>\n",
       "      <td>0</td>\n",
       "      <td>0</td>\n",
       "      <td>...</td>\n",
       "      <td>0</td>\n",
       "      <td>0</td>\n",
       "      <td>0</td>\n",
       "      <td>0</td>\n",
       "      <td>0</td>\n",
       "      <td>0</td>\n",
       "      <td>1</td>\n",
       "      <td>0</td>\n",
       "      <td>0</td>\n",
       "      <td>0</td>\n",
       "    </tr>\n",
       "    <tr>\n",
       "      <th>4</th>\n",
       "      <td>0</td>\n",
       "      <td>1</td>\n",
       "      <td>0</td>\n",
       "      <td>0</td>\n",
       "      <td>0</td>\n",
       "      <td>0</td>\n",
       "      <td>0</td>\n",
       "      <td>0</td>\n",
       "      <td>0</td>\n",
       "      <td>0</td>\n",
       "      <td>...</td>\n",
       "      <td>0</td>\n",
       "      <td>0</td>\n",
       "      <td>0</td>\n",
       "      <td>0</td>\n",
       "      <td>0</td>\n",
       "      <td>0</td>\n",
       "      <td>0</td>\n",
       "      <td>0</td>\n",
       "      <td>0</td>\n",
       "      <td>0</td>\n",
       "    </tr>\n",
       "  </tbody>\n",
       "</table>\n",
       "<p>5 rows × 33 columns</p>\n",
       "</div>"
      ],
      "text/plain": [
       "   Barking and Dagenham  Barnet  Bexley  Brent  Bromley  Camden  \\\n",
       "0                     0       0       0      0        0       0   \n",
       "1                     0       0       0      0        0       0   \n",
       "2                     0       0       0      0        0       0   \n",
       "3                     0       0       0      0        0       0   \n",
       "4                     0       1       0      0        0       0   \n",
       "\n",
       "   City of London  Croydon  Ealing  Enfield  ...  Merton  Newham  Redbridge  \\\n",
       "0               0        0       0        0  ...       0       0          0   \n",
       "1               0        0       1        0  ...       0       0          0   \n",
       "2               0        0       0        0  ...       0       0          0   \n",
       "3               0        0       0        0  ...       0       0          0   \n",
       "4               0        0       0        0  ...       0       0          0   \n",
       "\n",
       "   Richmond upon Thames  Southwark  Sutton  Tower Hamlets  Waltham Forest  \\\n",
       "0                     0          0       0              0               0   \n",
       "1                     0          0       0              0               0   \n",
       "2                     0          0       0              0               0   \n",
       "3                     0          0       0              1               0   \n",
       "4                     0          0       0              0               0   \n",
       "\n",
       "   Wandsworth  Westminster  \n",
       "0           0            0  \n",
       "1           0            0  \n",
       "2           0            0  \n",
       "3           0            0  \n",
       "4           0            0  \n",
       "\n",
       "[5 rows x 33 columns]"
      ]
     },
     "execution_count": 8,
     "metadata": {},
     "output_type": "execute_result"
    }
   ],
   "source": [
    "neigh_dummies.head()"
   ]
  },
  {
   "cell_type": "code",
   "execution_count": 9,
   "metadata": {
    "id": "ehoVgr9NNfhJ"
   },
   "outputs": [
    {
     "data": {
      "text/plain": [
       "(51827, 33)"
      ]
     },
     "execution_count": 9,
     "metadata": {},
     "output_type": "execute_result"
    }
   ],
   "source": [
    "neigh_dummies.shape"
   ]
  },
  {
   "cell_type": "code",
   "execution_count": 10,
   "metadata": {
    "id": "qdGPJ4tONfhJ"
   },
   "outputs": [],
   "source": [
    "## Genero las dummies para la variable room_type, dentro de la variable room_dummies.\n",
    "room_dummies = pd.get_dummies(london['room_type'])"
   ]
  },
  {
   "cell_type": "markdown",
   "metadata": {
    "id": "lDHhvq4_NfhJ"
   },
   "source": [
    "Imprimir las dimensiones y primeras lineas de estas dummies"
   ]
  },
  {
   "cell_type": "code",
   "execution_count": 11,
   "metadata": {
    "id": "ssP3nFUcNfhJ"
   },
   "outputs": [
    {
     "data": {
      "text/html": [
       "<div>\n",
       "<style scoped>\n",
       "    .dataframe tbody tr th:only-of-type {\n",
       "        vertical-align: middle;\n",
       "    }\n",
       "\n",
       "    .dataframe tbody tr th {\n",
       "        vertical-align: top;\n",
       "    }\n",
       "\n",
       "    .dataframe thead th {\n",
       "        text-align: right;\n",
       "    }\n",
       "</style>\n",
       "<table border=\"1\" class=\"dataframe\">\n",
       "  <thead>\n",
       "    <tr style=\"text-align: right;\">\n",
       "      <th></th>\n",
       "      <th>Entire home/apt</th>\n",
       "      <th>Private room</th>\n",
       "      <th>Shared room</th>\n",
       "    </tr>\n",
       "  </thead>\n",
       "  <tbody>\n",
       "    <tr>\n",
       "      <th>0</th>\n",
       "      <td>0</td>\n",
       "      <td>1</td>\n",
       "      <td>0</td>\n",
       "    </tr>\n",
       "    <tr>\n",
       "      <th>1</th>\n",
       "      <td>0</td>\n",
       "      <td>1</td>\n",
       "      <td>0</td>\n",
       "    </tr>\n",
       "    <tr>\n",
       "      <th>2</th>\n",
       "      <td>0</td>\n",
       "      <td>1</td>\n",
       "      <td>0</td>\n",
       "    </tr>\n",
       "    <tr>\n",
       "      <th>3</th>\n",
       "      <td>1</td>\n",
       "      <td>0</td>\n",
       "      <td>0</td>\n",
       "    </tr>\n",
       "    <tr>\n",
       "      <th>4</th>\n",
       "      <td>0</td>\n",
       "      <td>1</td>\n",
       "      <td>0</td>\n",
       "    </tr>\n",
       "  </tbody>\n",
       "</table>\n",
       "</div>"
      ],
      "text/plain": [
       "   Entire home/apt  Private room  Shared room\n",
       "0                0             1            0\n",
       "1                0             1            0\n",
       "2                0             1            0\n",
       "3                1             0            0\n",
       "4                0             1            0"
      ]
     },
     "execution_count": 11,
     "metadata": {},
     "output_type": "execute_result"
    }
   ],
   "source": [
    "room_dummies.head()"
   ]
  },
  {
   "cell_type": "code",
   "execution_count": 12,
   "metadata": {
    "id": "jmB-t-3hNfhK"
   },
   "outputs": [
    {
     "data": {
      "text/plain": [
       "(51827, 3)"
      ]
     },
     "execution_count": 12,
     "metadata": {},
     "output_type": "execute_result"
    }
   ],
   "source": [
    "room_dummies.shape"
   ]
  },
  {
   "cell_type": "markdown",
   "metadata": {
    "id": "c8CG_MEdkuX-"
   },
   "source": [
    "Joinear las variables dummies al dataset\n",
    "\n"
   ]
  },
  {
   "cell_type": "code",
   "execution_count": 13,
   "metadata": {},
   "outputs": [],
   "source": [
    "london=pd.concat([london,room_dummies,neigh_dummies],axis=1)"
   ]
  },
  {
   "cell_type": "code",
   "execution_count": 14,
   "metadata": {},
   "outputs": [
    {
     "data": {
      "text/html": [
       "<div>\n",
       "<style scoped>\n",
       "    .dataframe tbody tr th:only-of-type {\n",
       "        vertical-align: middle;\n",
       "    }\n",
       "\n",
       "    .dataframe tbody tr th {\n",
       "        vertical-align: top;\n",
       "    }\n",
       "\n",
       "    .dataframe thead th {\n",
       "        text-align: right;\n",
       "    }\n",
       "</style>\n",
       "<table border=\"1\" class=\"dataframe\">\n",
       "  <thead>\n",
       "    <tr style=\"text-align: right;\">\n",
       "      <th></th>\n",
       "      <th>neighbourhood</th>\n",
       "      <th>room_type</th>\n",
       "      <th>price</th>\n",
       "      <th>minimum_nights</th>\n",
       "      <th>number_of_reviews</th>\n",
       "      <th>reviews_per_month</th>\n",
       "      <th>calculated_host_listings_count</th>\n",
       "      <th>availability_365</th>\n",
       "      <th>Entire home/apt</th>\n",
       "      <th>Private room</th>\n",
       "      <th>...</th>\n",
       "      <th>Merton</th>\n",
       "      <th>Newham</th>\n",
       "      <th>Redbridge</th>\n",
       "      <th>Richmond upon Thames</th>\n",
       "      <th>Southwark</th>\n",
       "      <th>Sutton</th>\n",
       "      <th>Tower Hamlets</th>\n",
       "      <th>Waltham Forest</th>\n",
       "      <th>Wandsworth</th>\n",
       "      <th>Westminster</th>\n",
       "    </tr>\n",
       "  </thead>\n",
       "  <tbody>\n",
       "    <tr>\n",
       "      <th>0</th>\n",
       "      <td>Haringey</td>\n",
       "      <td>Private room</td>\n",
       "      <td>35</td>\n",
       "      <td>1</td>\n",
       "      <td>131</td>\n",
       "      <td>1.71</td>\n",
       "      <td>4</td>\n",
       "      <td>262</td>\n",
       "      <td>0</td>\n",
       "      <td>1</td>\n",
       "      <td>...</td>\n",
       "      <td>0</td>\n",
       "      <td>0</td>\n",
       "      <td>0</td>\n",
       "      <td>0</td>\n",
       "      <td>0</td>\n",
       "      <td>0</td>\n",
       "      <td>0</td>\n",
       "      <td>0</td>\n",
       "      <td>0</td>\n",
       "      <td>0</td>\n",
       "    </tr>\n",
       "    <tr>\n",
       "      <th>1</th>\n",
       "      <td>Ealing</td>\n",
       "      <td>Private room</td>\n",
       "      <td>70</td>\n",
       "      <td>2</td>\n",
       "      <td>2</td>\n",
       "      <td>0.07</td>\n",
       "      <td>6</td>\n",
       "      <td>62</td>\n",
       "      <td>0</td>\n",
       "      <td>1</td>\n",
       "      <td>...</td>\n",
       "      <td>0</td>\n",
       "      <td>0</td>\n",
       "      <td>0</td>\n",
       "      <td>0</td>\n",
       "      <td>0</td>\n",
       "      <td>0</td>\n",
       "      <td>0</td>\n",
       "      <td>0</td>\n",
       "      <td>0</td>\n",
       "      <td>0</td>\n",
       "    </tr>\n",
       "    <tr>\n",
       "      <th>2</th>\n",
       "      <td>Islington</td>\n",
       "      <td>Private room</td>\n",
       "      <td>45</td>\n",
       "      <td>1</td>\n",
       "      <td>14</td>\n",
       "      <td>0.14</td>\n",
       "      <td>2</td>\n",
       "      <td>364</td>\n",
       "      <td>0</td>\n",
       "      <td>1</td>\n",
       "      <td>...</td>\n",
       "      <td>0</td>\n",
       "      <td>0</td>\n",
       "      <td>0</td>\n",
       "      <td>0</td>\n",
       "      <td>0</td>\n",
       "      <td>0</td>\n",
       "      <td>0</td>\n",
       "      <td>0</td>\n",
       "      <td>0</td>\n",
       "      <td>0</td>\n",
       "    </tr>\n",
       "    <tr>\n",
       "      <th>3</th>\n",
       "      <td>Tower Hamlets</td>\n",
       "      <td>Entire home/apt</td>\n",
       "      <td>102</td>\n",
       "      <td>5</td>\n",
       "      <td>7</td>\n",
       "      <td>0.07</td>\n",
       "      <td>56</td>\n",
       "      <td>295</td>\n",
       "      <td>1</td>\n",
       "      <td>0</td>\n",
       "      <td>...</td>\n",
       "      <td>0</td>\n",
       "      <td>0</td>\n",
       "      <td>0</td>\n",
       "      <td>0</td>\n",
       "      <td>0</td>\n",
       "      <td>0</td>\n",
       "      <td>1</td>\n",
       "      <td>0</td>\n",
       "      <td>0</td>\n",
       "      <td>0</td>\n",
       "    </tr>\n",
       "    <tr>\n",
       "      <th>4</th>\n",
       "      <td>Barnet</td>\n",
       "      <td>Private room</td>\n",
       "      <td>29</td>\n",
       "      <td>5</td>\n",
       "      <td>114</td>\n",
       "      <td>1.13</td>\n",
       "      <td>3</td>\n",
       "      <td>285</td>\n",
       "      <td>0</td>\n",
       "      <td>1</td>\n",
       "      <td>...</td>\n",
       "      <td>0</td>\n",
       "      <td>0</td>\n",
       "      <td>0</td>\n",
       "      <td>0</td>\n",
       "      <td>0</td>\n",
       "      <td>0</td>\n",
       "      <td>0</td>\n",
       "      <td>0</td>\n",
       "      <td>0</td>\n",
       "      <td>0</td>\n",
       "    </tr>\n",
       "  </tbody>\n",
       "</table>\n",
       "<p>5 rows × 44 columns</p>\n",
       "</div>"
      ],
      "text/plain": [
       "   neighbourhood        room_type  price  minimum_nights  number_of_reviews  \\\n",
       "0       Haringey     Private room     35               1                131   \n",
       "1         Ealing     Private room     70               2                  2   \n",
       "2      Islington     Private room     45               1                 14   \n",
       "3  Tower Hamlets  Entire home/apt    102               5                  7   \n",
       "4         Barnet     Private room     29               5                114   \n",
       "\n",
       "   reviews_per_month  calculated_host_listings_count  availability_365  \\\n",
       "0               1.71                               4               262   \n",
       "1               0.07                               6                62   \n",
       "2               0.14                               2               364   \n",
       "3               0.07                              56               295   \n",
       "4               1.13                               3               285   \n",
       "\n",
       "   Entire home/apt  Private room  ...  Merton  Newham  Redbridge  \\\n",
       "0                0             1  ...       0       0          0   \n",
       "1                0             1  ...       0       0          0   \n",
       "2                0             1  ...       0       0          0   \n",
       "3                1             0  ...       0       0          0   \n",
       "4                0             1  ...       0       0          0   \n",
       "\n",
       "   Richmond upon Thames  Southwark  Sutton  Tower Hamlets  Waltham Forest  \\\n",
       "0                     0          0       0              0               0   \n",
       "1                     0          0       0              0               0   \n",
       "2                     0          0       0              0               0   \n",
       "3                     0          0       0              1               0   \n",
       "4                     0          0       0              0               0   \n",
       "\n",
       "   Wandsworth  Westminster  \n",
       "0           0            0  \n",
       "1           0            0  \n",
       "2           0            0  \n",
       "3           0            0  \n",
       "4           0            0  \n",
       "\n",
       "[5 rows x 44 columns]"
      ]
     },
     "execution_count": 14,
     "metadata": {},
     "output_type": "execute_result"
    }
   ],
   "source": [
    "london.head()"
   ]
  },
  {
   "cell_type": "markdown",
   "metadata": {
    "id": "qjPPQtG6kuX_"
   },
   "source": [
    "##### Dividiremos nuestro dataset en la variable dependiente \"y\" (label o etiqueta) y las variables independientes \"x\""
   ]
  },
  {
   "cell_type": "code",
   "execution_count": 15,
   "metadata": {},
   "outputs": [
    {
     "data": {
      "text/plain": [
       "(5000, 44)"
      ]
     },
     "execution_count": 15,
     "metadata": {},
     "output_type": "execute_result"
    }
   ],
   "source": [
    "#Reducir Numero de Filas para Rendimiento de la PC\n",
    "london=london.iloc[:5000]\n",
    "london.shape"
   ]
  },
  {
   "cell_type": "code",
   "execution_count": 16,
   "metadata": {
    "id": "1TZWtiVTkuX_"
   },
   "outputs": [],
   "source": [
    "#Definir atributos que seran la variable x e y\n",
    "y = np.array(london[[\"price\"]])\n",
    "x = london.drop(['price', 'neighbourhood','room_type'], axis=1)"
   ]
  },
  {
   "cell_type": "markdown",
   "metadata": {
    "id": "s-2ujF5MkuYA"
   },
   "source": [
    "##### **Objetivo 7**\n",
    "\n",
    "Dividir el dataset entre Train y Test, tomar un test_size del 30%."
   ]
  },
  {
   "cell_type": "code",
   "execution_count": 17,
   "metadata": {
    "id": "SBepVVKIkuYA"
   },
   "outputs": [],
   "source": [
    "#Dividir DataSet en Train y Test\n",
    "X_train, X_test, Y_train, Y_test = train_test_split(x, y, test_size=0.3, random_state=0)"
   ]
  },
  {
   "cell_type": "markdown",
   "metadata": {
    "id": "mfDnVu6hkuYB"
   },
   "source": [
    "##### **Objetivo 8**\n",
    "Con el StandardScaler generado en la linea siguiente, realizar el transform para el xtrain y xtest guardandolos en nuevas variables llamadas \"xtrain_scal\" y \"xtest_scal\".\n"
   ]
  },
  {
   "cell_type": "code",
   "execution_count": 18,
   "metadata": {},
   "outputs": [
    {
     "data": {
      "text/html": [
       "<div>\n",
       "<style scoped>\n",
       "    .dataframe tbody tr th:only-of-type {\n",
       "        vertical-align: middle;\n",
       "    }\n",
       "\n",
       "    .dataframe tbody tr th {\n",
       "        vertical-align: top;\n",
       "    }\n",
       "\n",
       "    .dataframe thead th {\n",
       "        text-align: right;\n",
       "    }\n",
       "</style>\n",
       "<table border=\"1\" class=\"dataframe\">\n",
       "  <thead>\n",
       "    <tr style=\"text-align: right;\">\n",
       "      <th></th>\n",
       "      <th>minimum_nights</th>\n",
       "      <th>number_of_reviews</th>\n",
       "      <th>reviews_per_month</th>\n",
       "      <th>calculated_host_listings_count</th>\n",
       "      <th>availability_365</th>\n",
       "      <th>Entire home/apt</th>\n",
       "      <th>Private room</th>\n",
       "      <th>Shared room</th>\n",
       "      <th>Barking and Dagenham</th>\n",
       "      <th>Barnet</th>\n",
       "      <th>...</th>\n",
       "      <th>Merton</th>\n",
       "      <th>Newham</th>\n",
       "      <th>Redbridge</th>\n",
       "      <th>Richmond upon Thames</th>\n",
       "      <th>Southwark</th>\n",
       "      <th>Sutton</th>\n",
       "      <th>Tower Hamlets</th>\n",
       "      <th>Waltham Forest</th>\n",
       "      <th>Wandsworth</th>\n",
       "      <th>Westminster</th>\n",
       "    </tr>\n",
       "  </thead>\n",
       "  <tbody>\n",
       "    <tr>\n",
       "      <th>2858</th>\n",
       "      <td>1</td>\n",
       "      <td>230</td>\n",
       "      <td>4.01</td>\n",
       "      <td>1</td>\n",
       "      <td>345</td>\n",
       "      <td>0</td>\n",
       "      <td>1</td>\n",
       "      <td>0</td>\n",
       "      <td>0</td>\n",
       "      <td>0</td>\n",
       "      <td>...</td>\n",
       "      <td>0</td>\n",
       "      <td>0</td>\n",
       "      <td>0</td>\n",
       "      <td>0</td>\n",
       "      <td>0</td>\n",
       "      <td>0</td>\n",
       "      <td>0</td>\n",
       "      <td>0</td>\n",
       "      <td>0</td>\n",
       "      <td>0</td>\n",
       "    </tr>\n",
       "    <tr>\n",
       "      <th>1559</th>\n",
       "      <td>2</td>\n",
       "      <td>2</td>\n",
       "      <td>0.09</td>\n",
       "      <td>1</td>\n",
       "      <td>231</td>\n",
       "      <td>0</td>\n",
       "      <td>1</td>\n",
       "      <td>0</td>\n",
       "      <td>0</td>\n",
       "      <td>0</td>\n",
       "      <td>...</td>\n",
       "      <td>0</td>\n",
       "      <td>0</td>\n",
       "      <td>0</td>\n",
       "      <td>0</td>\n",
       "      <td>0</td>\n",
       "      <td>0</td>\n",
       "      <td>0</td>\n",
       "      <td>0</td>\n",
       "      <td>0</td>\n",
       "      <td>0</td>\n",
       "    </tr>\n",
       "    <tr>\n",
       "      <th>1441</th>\n",
       "      <td>2</td>\n",
       "      <td>17</td>\n",
       "      <td>0.32</td>\n",
       "      <td>4</td>\n",
       "      <td>221</td>\n",
       "      <td>0</td>\n",
       "      <td>1</td>\n",
       "      <td>0</td>\n",
       "      <td>0</td>\n",
       "      <td>0</td>\n",
       "      <td>...</td>\n",
       "      <td>0</td>\n",
       "      <td>0</td>\n",
       "      <td>0</td>\n",
       "      <td>0</td>\n",
       "      <td>0</td>\n",
       "      <td>0</td>\n",
       "      <td>0</td>\n",
       "      <td>0</td>\n",
       "      <td>0</td>\n",
       "      <td>0</td>\n",
       "    </tr>\n",
       "    <tr>\n",
       "      <th>2179</th>\n",
       "      <td>5</td>\n",
       "      <td>32</td>\n",
       "      <td>0.52</td>\n",
       "      <td>3</td>\n",
       "      <td>0</td>\n",
       "      <td>0</td>\n",
       "      <td>1</td>\n",
       "      <td>0</td>\n",
       "      <td>0</td>\n",
       "      <td>0</td>\n",
       "      <td>...</td>\n",
       "      <td>0</td>\n",
       "      <td>0</td>\n",
       "      <td>0</td>\n",
       "      <td>0</td>\n",
       "      <td>1</td>\n",
       "      <td>0</td>\n",
       "      <td>0</td>\n",
       "      <td>0</td>\n",
       "      <td>0</td>\n",
       "      <td>0</td>\n",
       "    </tr>\n",
       "    <tr>\n",
       "      <th>1390</th>\n",
       "      <td>2</td>\n",
       "      <td>36</td>\n",
       "      <td>0.54</td>\n",
       "      <td>1</td>\n",
       "      <td>0</td>\n",
       "      <td>1</td>\n",
       "      <td>0</td>\n",
       "      <td>0</td>\n",
       "      <td>0</td>\n",
       "      <td>0</td>\n",
       "      <td>...</td>\n",
       "      <td>0</td>\n",
       "      <td>0</td>\n",
       "      <td>0</td>\n",
       "      <td>0</td>\n",
       "      <td>0</td>\n",
       "      <td>0</td>\n",
       "      <td>1</td>\n",
       "      <td>0</td>\n",
       "      <td>0</td>\n",
       "      <td>0</td>\n",
       "    </tr>\n",
       "  </tbody>\n",
       "</table>\n",
       "<p>5 rows × 41 columns</p>\n",
       "</div>"
      ],
      "text/plain": [
       "      minimum_nights  number_of_reviews  reviews_per_month  \\\n",
       "2858               1                230               4.01   \n",
       "1559               2                  2               0.09   \n",
       "1441               2                 17               0.32   \n",
       "2179               5                 32               0.52   \n",
       "1390               2                 36               0.54   \n",
       "\n",
       "      calculated_host_listings_count  availability_365  Entire home/apt  \\\n",
       "2858                               1               345                0   \n",
       "1559                               1               231                0   \n",
       "1441                               4               221                0   \n",
       "2179                               3                 0                0   \n",
       "1390                               1                 0                1   \n",
       "\n",
       "      Private room  Shared room  Barking and Dagenham  Barnet  ...  Merton  \\\n",
       "2858             1            0                     0       0  ...       0   \n",
       "1559             1            0                     0       0  ...       0   \n",
       "1441             1            0                     0       0  ...       0   \n",
       "2179             1            0                     0       0  ...       0   \n",
       "1390             0            0                     0       0  ...       0   \n",
       "\n",
       "      Newham  Redbridge  Richmond upon Thames  Southwark  Sutton  \\\n",
       "2858       0          0                     0          0       0   \n",
       "1559       0          0                     0          0       0   \n",
       "1441       0          0                     0          0       0   \n",
       "2179       0          0                     0          1       0   \n",
       "1390       0          0                     0          0       0   \n",
       "\n",
       "      Tower Hamlets  Waltham Forest  Wandsworth  Westminster  \n",
       "2858              0               0           0            0  \n",
       "1559              0               0           0            0  \n",
       "1441              0               0           0            0  \n",
       "2179              0               0           0            0  \n",
       "1390              1               0           0            0  \n",
       "\n",
       "[5 rows x 41 columns]"
      ]
     },
     "execution_count": 18,
     "metadata": {},
     "output_type": "execute_result"
    }
   ],
   "source": [
    "#Visualizar DataSet Train.\n",
    "X_train.head()"
   ]
  },
  {
   "cell_type": "code",
   "execution_count": 19,
   "metadata": {},
   "outputs": [
    {
     "data": {
      "text/html": [
       "<div>\n",
       "<style scoped>\n",
       "    .dataframe tbody tr th:only-of-type {\n",
       "        vertical-align: middle;\n",
       "    }\n",
       "\n",
       "    .dataframe tbody tr th {\n",
       "        vertical-align: top;\n",
       "    }\n",
       "\n",
       "    .dataframe thead th {\n",
       "        text-align: right;\n",
       "    }\n",
       "</style>\n",
       "<table border=\"1\" class=\"dataframe\">\n",
       "  <thead>\n",
       "    <tr style=\"text-align: right;\">\n",
       "      <th></th>\n",
       "      <th>minimum_nights</th>\n",
       "      <th>number_of_reviews</th>\n",
       "      <th>reviews_per_month</th>\n",
       "      <th>calculated_host_listings_count</th>\n",
       "      <th>availability_365</th>\n",
       "    </tr>\n",
       "  </thead>\n",
       "  <tbody>\n",
       "    <tr>\n",
       "      <th>2858</th>\n",
       "      <td>1</td>\n",
       "      <td>230</td>\n",
       "      <td>4.01</td>\n",
       "      <td>1</td>\n",
       "      <td>345</td>\n",
       "    </tr>\n",
       "    <tr>\n",
       "      <th>1559</th>\n",
       "      <td>2</td>\n",
       "      <td>2</td>\n",
       "      <td>0.09</td>\n",
       "      <td>1</td>\n",
       "      <td>231</td>\n",
       "    </tr>\n",
       "    <tr>\n",
       "      <th>1441</th>\n",
       "      <td>2</td>\n",
       "      <td>17</td>\n",
       "      <td>0.32</td>\n",
       "      <td>4</td>\n",
       "      <td>221</td>\n",
       "    </tr>\n",
       "    <tr>\n",
       "      <th>2179</th>\n",
       "      <td>5</td>\n",
       "      <td>32</td>\n",
       "      <td>0.52</td>\n",
       "      <td>3</td>\n",
       "      <td>0</td>\n",
       "    </tr>\n",
       "    <tr>\n",
       "      <th>1390</th>\n",
       "      <td>2</td>\n",
       "      <td>36</td>\n",
       "      <td>0.54</td>\n",
       "      <td>1</td>\n",
       "      <td>0</td>\n",
       "    </tr>\n",
       "  </tbody>\n",
       "</table>\n",
       "</div>"
      ],
      "text/plain": [
       "      minimum_nights  number_of_reviews  reviews_per_month  \\\n",
       "2858               1                230               4.01   \n",
       "1559               2                  2               0.09   \n",
       "1441               2                 17               0.32   \n",
       "2179               5                 32               0.52   \n",
       "1390               2                 36               0.54   \n",
       "\n",
       "      calculated_host_listings_count  availability_365  \n",
       "2858                               1               345  \n",
       "1559                               1               231  \n",
       "1441                               4               221  \n",
       "2179                               3                 0  \n",
       "1390                               1                 0  "
      ]
     },
     "execution_count": 19,
     "metadata": {},
     "output_type": "execute_result"
    }
   ],
   "source": [
    "#Separar Variables para Scaler\n",
    "X_train1=X_train.iloc[:,0:5]\n",
    "X_train1.head()"
   ]
  },
  {
   "cell_type": "code",
   "execution_count": 20,
   "metadata": {},
   "outputs": [
    {
     "data": {
      "text/html": [
       "<div>\n",
       "<style scoped>\n",
       "    .dataframe tbody tr th:only-of-type {\n",
       "        vertical-align: middle;\n",
       "    }\n",
       "\n",
       "    .dataframe tbody tr th {\n",
       "        vertical-align: top;\n",
       "    }\n",
       "\n",
       "    .dataframe thead th {\n",
       "        text-align: right;\n",
       "    }\n",
       "</style>\n",
       "<table border=\"1\" class=\"dataframe\">\n",
       "  <thead>\n",
       "    <tr style=\"text-align: right;\">\n",
       "      <th></th>\n",
       "      <th>Entire home/apt</th>\n",
       "      <th>Private room</th>\n",
       "      <th>Shared room</th>\n",
       "      <th>Barking and Dagenham</th>\n",
       "      <th>Barnet</th>\n",
       "      <th>Bexley</th>\n",
       "      <th>Brent</th>\n",
       "      <th>Bromley</th>\n",
       "      <th>Camden</th>\n",
       "      <th>City of London</th>\n",
       "      <th>...</th>\n",
       "      <th>Merton</th>\n",
       "      <th>Newham</th>\n",
       "      <th>Redbridge</th>\n",
       "      <th>Richmond upon Thames</th>\n",
       "      <th>Southwark</th>\n",
       "      <th>Sutton</th>\n",
       "      <th>Tower Hamlets</th>\n",
       "      <th>Waltham Forest</th>\n",
       "      <th>Wandsworth</th>\n",
       "      <th>Westminster</th>\n",
       "    </tr>\n",
       "  </thead>\n",
       "  <tbody>\n",
       "    <tr>\n",
       "      <th>2858</th>\n",
       "      <td>0</td>\n",
       "      <td>1</td>\n",
       "      <td>0</td>\n",
       "      <td>0</td>\n",
       "      <td>0</td>\n",
       "      <td>0</td>\n",
       "      <td>0</td>\n",
       "      <td>0</td>\n",
       "      <td>0</td>\n",
       "      <td>0</td>\n",
       "      <td>...</td>\n",
       "      <td>0</td>\n",
       "      <td>0</td>\n",
       "      <td>0</td>\n",
       "      <td>0</td>\n",
       "      <td>0</td>\n",
       "      <td>0</td>\n",
       "      <td>0</td>\n",
       "      <td>0</td>\n",
       "      <td>0</td>\n",
       "      <td>0</td>\n",
       "    </tr>\n",
       "    <tr>\n",
       "      <th>1559</th>\n",
       "      <td>0</td>\n",
       "      <td>1</td>\n",
       "      <td>0</td>\n",
       "      <td>0</td>\n",
       "      <td>0</td>\n",
       "      <td>0</td>\n",
       "      <td>0</td>\n",
       "      <td>0</td>\n",
       "      <td>0</td>\n",
       "      <td>0</td>\n",
       "      <td>...</td>\n",
       "      <td>0</td>\n",
       "      <td>0</td>\n",
       "      <td>0</td>\n",
       "      <td>0</td>\n",
       "      <td>0</td>\n",
       "      <td>0</td>\n",
       "      <td>0</td>\n",
       "      <td>0</td>\n",
       "      <td>0</td>\n",
       "      <td>0</td>\n",
       "    </tr>\n",
       "    <tr>\n",
       "      <th>1441</th>\n",
       "      <td>0</td>\n",
       "      <td>1</td>\n",
       "      <td>0</td>\n",
       "      <td>0</td>\n",
       "      <td>0</td>\n",
       "      <td>0</td>\n",
       "      <td>0</td>\n",
       "      <td>0</td>\n",
       "      <td>1</td>\n",
       "      <td>0</td>\n",
       "      <td>...</td>\n",
       "      <td>0</td>\n",
       "      <td>0</td>\n",
       "      <td>0</td>\n",
       "      <td>0</td>\n",
       "      <td>0</td>\n",
       "      <td>0</td>\n",
       "      <td>0</td>\n",
       "      <td>0</td>\n",
       "      <td>0</td>\n",
       "      <td>0</td>\n",
       "    </tr>\n",
       "    <tr>\n",
       "      <th>2179</th>\n",
       "      <td>0</td>\n",
       "      <td>1</td>\n",
       "      <td>0</td>\n",
       "      <td>0</td>\n",
       "      <td>0</td>\n",
       "      <td>0</td>\n",
       "      <td>0</td>\n",
       "      <td>0</td>\n",
       "      <td>0</td>\n",
       "      <td>0</td>\n",
       "      <td>...</td>\n",
       "      <td>0</td>\n",
       "      <td>0</td>\n",
       "      <td>0</td>\n",
       "      <td>0</td>\n",
       "      <td>1</td>\n",
       "      <td>0</td>\n",
       "      <td>0</td>\n",
       "      <td>0</td>\n",
       "      <td>0</td>\n",
       "      <td>0</td>\n",
       "    </tr>\n",
       "    <tr>\n",
       "      <th>1390</th>\n",
       "      <td>1</td>\n",
       "      <td>0</td>\n",
       "      <td>0</td>\n",
       "      <td>0</td>\n",
       "      <td>0</td>\n",
       "      <td>0</td>\n",
       "      <td>0</td>\n",
       "      <td>0</td>\n",
       "      <td>0</td>\n",
       "      <td>0</td>\n",
       "      <td>...</td>\n",
       "      <td>0</td>\n",
       "      <td>0</td>\n",
       "      <td>0</td>\n",
       "      <td>0</td>\n",
       "      <td>0</td>\n",
       "      <td>0</td>\n",
       "      <td>1</td>\n",
       "      <td>0</td>\n",
       "      <td>0</td>\n",
       "      <td>0</td>\n",
       "    </tr>\n",
       "  </tbody>\n",
       "</table>\n",
       "<p>5 rows × 36 columns</p>\n",
       "</div>"
      ],
      "text/plain": [
       "      Entire home/apt  Private room  Shared room  Barking and Dagenham  \\\n",
       "2858                0             1            0                     0   \n",
       "1559                0             1            0                     0   \n",
       "1441                0             1            0                     0   \n",
       "2179                0             1            0                     0   \n",
       "1390                1             0            0                     0   \n",
       "\n",
       "      Barnet  Bexley  Brent  Bromley  Camden  City of London  ...  Merton  \\\n",
       "2858       0       0      0        0       0               0  ...       0   \n",
       "1559       0       0      0        0       0               0  ...       0   \n",
       "1441       0       0      0        0       1               0  ...       0   \n",
       "2179       0       0      0        0       0               0  ...       0   \n",
       "1390       0       0      0        0       0               0  ...       0   \n",
       "\n",
       "      Newham  Redbridge  Richmond upon Thames  Southwark  Sutton  \\\n",
       "2858       0          0                     0          0       0   \n",
       "1559       0          0                     0          0       0   \n",
       "1441       0          0                     0          0       0   \n",
       "2179       0          0                     0          1       0   \n",
       "1390       0          0                     0          0       0   \n",
       "\n",
       "      Tower Hamlets  Waltham Forest  Wandsworth  Westminster  \n",
       "2858              0               0           0            0  \n",
       "1559              0               0           0            0  \n",
       "1441              0               0           0            0  \n",
       "2179              0               0           0            0  \n",
       "1390              1               0           0            0  \n",
       "\n",
       "[5 rows x 36 columns]"
      ]
     },
     "execution_count": 20,
     "metadata": {},
     "output_type": "execute_result"
    }
   ],
   "source": [
    "#Separar Variables Dummies\n",
    "X_train2=X_train.iloc[:,5:41]\n",
    "X_train2.head()"
   ]
  },
  {
   "cell_type": "code",
   "execution_count": 21,
   "metadata": {
    "id": "QgDYMr1qNfhL"
   },
   "outputs": [],
   "source": [
    "#Aplicar Scaler\n",
    "scaler = preprocessing.StandardScaler().fit(X_train1)"
   ]
  },
  {
   "cell_type": "code",
   "execution_count": 22,
   "metadata": {
    "id": "PTdTOdUANfhL"
   },
   "outputs": [
    {
     "name": "stdout",
     "output_type": "stream",
     "text": [
      "[ 2.03012210e-17  6.09036631e-18  1.09119063e-17 -4.56777473e-18\n",
      " -9.23705556e-17]\n",
      "[1. 1. 1. 1. 1.]\n"
     ]
    }
   ],
   "source": [
    "xtrain_scal = scaler.transform(X_train1)\n",
    "print(xtrain_scal.mean(axis=0))\n",
    "print(xtrain_scal.std(axis=0))"
   ]
  },
  {
   "cell_type": "code",
   "execution_count": 23,
   "metadata": {},
   "outputs": [
    {
     "data": {
      "text/html": [
       "<div>\n",
       "<style scoped>\n",
       "    .dataframe tbody tr th:only-of-type {\n",
       "        vertical-align: middle;\n",
       "    }\n",
       "\n",
       "    .dataframe tbody tr th {\n",
       "        vertical-align: top;\n",
       "    }\n",
       "\n",
       "    .dataframe thead th {\n",
       "        text-align: right;\n",
       "    }\n",
       "</style>\n",
       "<table border=\"1\" class=\"dataframe\">\n",
       "  <thead>\n",
       "    <tr style=\"text-align: right;\">\n",
       "      <th></th>\n",
       "      <th>minimum_nights</th>\n",
       "      <th>number_of_reviews</th>\n",
       "      <th>reviews_per_month</th>\n",
       "      <th>calculated_host_listings_count</th>\n",
       "      <th>availability_365</th>\n",
       "      <th>Entire home/apt</th>\n",
       "      <th>Private room</th>\n",
       "      <th>Shared room</th>\n",
       "      <th>Barking and Dagenham</th>\n",
       "      <th>Barnet</th>\n",
       "      <th>...</th>\n",
       "      <th>Merton</th>\n",
       "      <th>Newham</th>\n",
       "      <th>Redbridge</th>\n",
       "      <th>Richmond upon Thames</th>\n",
       "      <th>Southwark</th>\n",
       "      <th>Sutton</th>\n",
       "      <th>Tower Hamlets</th>\n",
       "      <th>Waltham Forest</th>\n",
       "      <th>Wandsworth</th>\n",
       "      <th>Westminster</th>\n",
       "    </tr>\n",
       "  </thead>\n",
       "  <tbody>\n",
       "    <tr>\n",
       "      <th>398</th>\n",
       "      <td>2</td>\n",
       "      <td>10</td>\n",
       "      <td>0.13</td>\n",
       "      <td>1</td>\n",
       "      <td>0</td>\n",
       "      <td>1</td>\n",
       "      <td>0</td>\n",
       "      <td>0</td>\n",
       "      <td>0</td>\n",
       "      <td>0</td>\n",
       "      <td>...</td>\n",
       "      <td>0</td>\n",
       "      <td>0</td>\n",
       "      <td>0</td>\n",
       "      <td>0</td>\n",
       "      <td>0</td>\n",
       "      <td>0</td>\n",
       "      <td>0</td>\n",
       "      <td>0</td>\n",
       "      <td>0</td>\n",
       "      <td>0</td>\n",
       "    </tr>\n",
       "    <tr>\n",
       "      <th>3833</th>\n",
       "      <td>1</td>\n",
       "      <td>65</td>\n",
       "      <td>1.24</td>\n",
       "      <td>6</td>\n",
       "      <td>10</td>\n",
       "      <td>0</td>\n",
       "      <td>1</td>\n",
       "      <td>0</td>\n",
       "      <td>0</td>\n",
       "      <td>0</td>\n",
       "      <td>...</td>\n",
       "      <td>0</td>\n",
       "      <td>0</td>\n",
       "      <td>0</td>\n",
       "      <td>0</td>\n",
       "      <td>0</td>\n",
       "      <td>0</td>\n",
       "      <td>0</td>\n",
       "      <td>0</td>\n",
       "      <td>0</td>\n",
       "      <td>0</td>\n",
       "    </tr>\n",
       "    <tr>\n",
       "      <th>4836</th>\n",
       "      <td>1</td>\n",
       "      <td>13</td>\n",
       "      <td>7.50</td>\n",
       "      <td>2</td>\n",
       "      <td>0</td>\n",
       "      <td>0</td>\n",
       "      <td>0</td>\n",
       "      <td>1</td>\n",
       "      <td>0</td>\n",
       "      <td>0</td>\n",
       "      <td>...</td>\n",
       "      <td>0</td>\n",
       "      <td>0</td>\n",
       "      <td>0</td>\n",
       "      <td>0</td>\n",
       "      <td>0</td>\n",
       "      <td>0</td>\n",
       "      <td>0</td>\n",
       "      <td>0</td>\n",
       "      <td>0</td>\n",
       "      <td>1</td>\n",
       "    </tr>\n",
       "    <tr>\n",
       "      <th>4572</th>\n",
       "      <td>4</td>\n",
       "      <td>52</td>\n",
       "      <td>1.06</td>\n",
       "      <td>1</td>\n",
       "      <td>365</td>\n",
       "      <td>0</td>\n",
       "      <td>1</td>\n",
       "      <td>0</td>\n",
       "      <td>0</td>\n",
       "      <td>0</td>\n",
       "      <td>...</td>\n",
       "      <td>0</td>\n",
       "      <td>0</td>\n",
       "      <td>0</td>\n",
       "      <td>0</td>\n",
       "      <td>0</td>\n",
       "      <td>0</td>\n",
       "      <td>0</td>\n",
       "      <td>0</td>\n",
       "      <td>0</td>\n",
       "      <td>1</td>\n",
       "    </tr>\n",
       "    <tr>\n",
       "      <th>636</th>\n",
       "      <td>1</td>\n",
       "      <td>32</td>\n",
       "      <td>0.42</td>\n",
       "      <td>2</td>\n",
       "      <td>342</td>\n",
       "      <td>0</td>\n",
       "      <td>1</td>\n",
       "      <td>0</td>\n",
       "      <td>0</td>\n",
       "      <td>0</td>\n",
       "      <td>...</td>\n",
       "      <td>0</td>\n",
       "      <td>0</td>\n",
       "      <td>0</td>\n",
       "      <td>0</td>\n",
       "      <td>0</td>\n",
       "      <td>0</td>\n",
       "      <td>0</td>\n",
       "      <td>0</td>\n",
       "      <td>0</td>\n",
       "      <td>1</td>\n",
       "    </tr>\n",
       "  </tbody>\n",
       "</table>\n",
       "<p>5 rows × 41 columns</p>\n",
       "</div>"
      ],
      "text/plain": [
       "      minimum_nights  number_of_reviews  reviews_per_month  \\\n",
       "398                2                 10               0.13   \n",
       "3833               1                 65               1.24   \n",
       "4836               1                 13               7.50   \n",
       "4572               4                 52               1.06   \n",
       "636                1                 32               0.42   \n",
       "\n",
       "      calculated_host_listings_count  availability_365  Entire home/apt  \\\n",
       "398                                1                 0                1   \n",
       "3833                               6                10                0   \n",
       "4836                               2                 0                0   \n",
       "4572                               1               365                0   \n",
       "636                                2               342                0   \n",
       "\n",
       "      Private room  Shared room  Barking and Dagenham  Barnet  ...  Merton  \\\n",
       "398              0            0                     0       0  ...       0   \n",
       "3833             1            0                     0       0  ...       0   \n",
       "4836             0            1                     0       0  ...       0   \n",
       "4572             1            0                     0       0  ...       0   \n",
       "636              1            0                     0       0  ...       0   \n",
       "\n",
       "      Newham  Redbridge  Richmond upon Thames  Southwark  Sutton  \\\n",
       "398        0          0                     0          0       0   \n",
       "3833       0          0                     0          0       0   \n",
       "4836       0          0                     0          0       0   \n",
       "4572       0          0                     0          0       0   \n",
       "636        0          0                     0          0       0   \n",
       "\n",
       "      Tower Hamlets  Waltham Forest  Wandsworth  Westminster  \n",
       "398               0               0           0            0  \n",
       "3833              0               0           0            0  \n",
       "4836              0               0           0            1  \n",
       "4572              0               0           0            1  \n",
       "636               0               0           0            1  \n",
       "\n",
       "[5 rows x 41 columns]"
      ]
     },
     "execution_count": 23,
     "metadata": {},
     "output_type": "execute_result"
    }
   ],
   "source": [
    "X_test.head()"
   ]
  },
  {
   "cell_type": "code",
   "execution_count": 24,
   "metadata": {},
   "outputs": [
    {
     "data": {
      "text/html": [
       "<div>\n",
       "<style scoped>\n",
       "    .dataframe tbody tr th:only-of-type {\n",
       "        vertical-align: middle;\n",
       "    }\n",
       "\n",
       "    .dataframe tbody tr th {\n",
       "        vertical-align: top;\n",
       "    }\n",
       "\n",
       "    .dataframe thead th {\n",
       "        text-align: right;\n",
       "    }\n",
       "</style>\n",
       "<table border=\"1\" class=\"dataframe\">\n",
       "  <thead>\n",
       "    <tr style=\"text-align: right;\">\n",
       "      <th></th>\n",
       "      <th>minimum_nights</th>\n",
       "      <th>number_of_reviews</th>\n",
       "      <th>reviews_per_month</th>\n",
       "      <th>calculated_host_listings_count</th>\n",
       "      <th>availability_365</th>\n",
       "    </tr>\n",
       "  </thead>\n",
       "  <tbody>\n",
       "    <tr>\n",
       "      <th>398</th>\n",
       "      <td>2</td>\n",
       "      <td>10</td>\n",
       "      <td>0.13</td>\n",
       "      <td>1</td>\n",
       "      <td>0</td>\n",
       "    </tr>\n",
       "    <tr>\n",
       "      <th>3833</th>\n",
       "      <td>1</td>\n",
       "      <td>65</td>\n",
       "      <td>1.24</td>\n",
       "      <td>6</td>\n",
       "      <td>10</td>\n",
       "    </tr>\n",
       "    <tr>\n",
       "      <th>4836</th>\n",
       "      <td>1</td>\n",
       "      <td>13</td>\n",
       "      <td>7.50</td>\n",
       "      <td>2</td>\n",
       "      <td>0</td>\n",
       "    </tr>\n",
       "    <tr>\n",
       "      <th>4572</th>\n",
       "      <td>4</td>\n",
       "      <td>52</td>\n",
       "      <td>1.06</td>\n",
       "      <td>1</td>\n",
       "      <td>365</td>\n",
       "    </tr>\n",
       "    <tr>\n",
       "      <th>636</th>\n",
       "      <td>1</td>\n",
       "      <td>32</td>\n",
       "      <td>0.42</td>\n",
       "      <td>2</td>\n",
       "      <td>342</td>\n",
       "    </tr>\n",
       "  </tbody>\n",
       "</table>\n",
       "</div>"
      ],
      "text/plain": [
       "      minimum_nights  number_of_reviews  reviews_per_month  \\\n",
       "398                2                 10               0.13   \n",
       "3833               1                 65               1.24   \n",
       "4836               1                 13               7.50   \n",
       "4572               4                 52               1.06   \n",
       "636                1                 32               0.42   \n",
       "\n",
       "      calculated_host_listings_count  availability_365  \n",
       "398                                1                 0  \n",
       "3833                               6                10  \n",
       "4836                               2                 0  \n",
       "4572                               1               365  \n",
       "636                                2               342  "
      ]
     },
     "execution_count": 24,
     "metadata": {},
     "output_type": "execute_result"
    }
   ],
   "source": [
    "#Separar Variables para Scaler\n",
    "X_test1=X_test.iloc[:,0:5]\n",
    "X_test1.head()"
   ]
  },
  {
   "cell_type": "code",
   "execution_count": null,
   "metadata": {},
   "outputs": [],
   "source": [
    "#Separar Variables Dummies\n",
    "X_test2=X_test.iloc[:,5:41]\n",
    "X_test2.head()"
   ]
  },
  {
   "cell_type": "code",
   "execution_count": 26,
   "metadata": {
    "id": "xJX0JJI7kuYC"
   },
   "outputs": [
    {
     "name": "stdout",
     "output_type": "stream",
     "text": [
      "[ 0.0017758  -0.07269996 -0.08745025  0.0222788  -0.0396277 ]\n",
      "[1.01823669 0.94723951 0.90993815 1.3853538  1.01408136]\n"
     ]
    }
   ],
   "source": [
    "#Aplicar Scaler\n",
    "xtest_scal = scaler.transform(X_test1)\n",
    "print(xtest_scal.mean(axis=0))\n",
    "print(xtest_scal.std(axis=0))"
   ]
  },
  {
   "cell_type": "code",
   "execution_count": 27,
   "metadata": {},
   "outputs": [
    {
     "data": {
      "text/plain": [
       "(3500, 41)"
      ]
     },
     "execution_count": 27,
     "metadata": {},
     "output_type": "execute_result"
    }
   ],
   "source": [
    "#Volver a Unificar DataSets Train y Test\n",
    "xtrain_scal=np.concatenate((xtrain_scal,X_train2),axis=1)\n",
    "xtrain_scal.shape"
   ]
  },
  {
   "cell_type": "code",
   "execution_count": 28,
   "metadata": {},
   "outputs": [
    {
     "data": {
      "text/plain": [
       "(3500, 41)"
      ]
     },
     "execution_count": 28,
     "metadata": {},
     "output_type": "execute_result"
    }
   ],
   "source": [
    "xtest_scal=np.concatenate((xtest_scal,X_test2),axis=1)\n",
    "xtrain_scal.shape"
   ]
  },
  {
   "cell_type": "raw",
   "metadata": {
    "id": "_hkXK5_ckuYC"
   },
   "source": []
  },
  {
   "cell_type": "markdown",
   "metadata": {},
   "source": [
    "##### **Objetivo 9**\n",
    "Crear un modelo lineal y entrenarlo para nuestro dataset.\n",
    "\n",
    "Obtener las predicciones y el \"mean_squared_error\" para el test set."
   ]
  },
  {
   "cell_type": "code",
   "execution_count": 30,
   "metadata": {},
   "outputs": [],
   "source": [
    "#Crear Modelo Regresion Lineal y Calculo del error.\n",
    "regli=LinearRegression()\n",
    "regli.fit(xtrain_scal,Y_train)\n",
    "Yprediction=regli.predict(xtest_scal)"
   ]
  },
  {
   "cell_type": "code",
   "execution_count": 31,
   "metadata": {},
   "outputs": [
    {
     "data": {
      "text/plain": [
       "1333.297619913737"
      ]
     },
     "execution_count": 31,
     "metadata": {},
     "output_type": "execute_result"
    }
   ],
   "source": [
    "(mean_squared_error(Y_test,Yprediction))"
   ]
  },
  {
   "cell_type": "markdown",
   "metadata": {
    "id": "yQpkINPIkuYD"
   },
   "source": [
    "##### **Objetivo 10**\n",
    "Crear un SVM Regressor y un GridSearch para realizar la búsqueda de hiperparámetros.\n",
    "\n",
    "Asignar dos posibles valores para el parámetro \"kernel\", y tres posibles valores para \"C\" y \"gamma\".\n",
    "\n",
    "Setear al parámetro \"refit\" en True y hacer 5 CrossValidation."
   ]
  },
  {
   "cell_type": "code",
   "execution_count": 33,
   "metadata": {
    "id": "cyh2r-iJNfhM"
   },
   "outputs": [],
   "source": [
    "from sklearn import svm, datasets\n",
    "from sklearn.model_selection import GridSearchCV\n",
    "from sklearn.svm import SVC\n",
    "svc = svm.SVC()"
   ]
  },
  {
   "cell_type": "code",
   "execution_count": 34,
   "metadata": {
    "id": "JK2ZKv6ONfhM"
   },
   "outputs": [],
   "source": [
    "#Definir Parametros y Ejecutar GridSearch\n",
    "parameters = {'kernel':('linear','rbf'),\n",
    "             'C':[1,10,100],\n",
    "             'gamma':[0.0005,0.005,0.5]}"
   ]
  },
  {
   "cell_type": "code",
   "execution_count": 35,
   "metadata": {
    "id": "7CD4cIYUkuYE"
   },
   "outputs": [
    {
     "name": "stdout",
     "output_type": "stream",
     "text": [
      "Fitting 5 folds for each of 18 candidates, totalling 90 fits\n"
     ]
    },
    {
     "name": "stderr",
     "output_type": "stream",
     "text": [
      "C:\\Users\\Bangho\\anaconda3\\lib\\site-packages\\sklearn\\model_selection\\_split.py:676: UserWarning: The least populated class in y has only 1 members, which is less than n_splits=5.\n",
      "  warnings.warn(\n"
     ]
    },
    {
     "name": "stdout",
     "output_type": "stream",
     "text": [
      "[CV 1/5] END ..C=1, gamma=0.0005, kernel=linear;, score=0.060 total time=   3.6s\n",
      "[CV 2/5] END ..C=1, gamma=0.0005, kernel=linear;, score=0.079 total time=   3.2s\n",
      "[CV 3/5] END ..C=1, gamma=0.0005, kernel=linear;, score=0.073 total time=   3.2s\n",
      "[CV 4/5] END ..C=1, gamma=0.0005, kernel=linear;, score=0.073 total time=   3.3s\n",
      "[CV 5/5] END ..C=1, gamma=0.0005, kernel=linear;, score=0.071 total time=   3.8s\n",
      "[CV 1/5] END .....C=1, gamma=0.0005, kernel=rbf;, score=0.039 total time=   3.2s\n",
      "[CV 2/5] END .....C=1, gamma=0.0005, kernel=rbf;, score=0.040 total time=   2.9s\n",
      "[CV 3/5] END .....C=1, gamma=0.0005, kernel=rbf;, score=0.040 total time=   2.9s\n",
      "[CV 4/5] END .....C=1, gamma=0.0005, kernel=rbf;, score=0.040 total time=   3.0s\n",
      "[CV 5/5] END .....C=1, gamma=0.0005, kernel=rbf;, score=0.039 total time=   3.6s\n",
      "[CV 1/5] END ...C=1, gamma=0.005, kernel=linear;, score=0.060 total time=   3.3s\n",
      "[CV 2/5] END ...C=1, gamma=0.005, kernel=linear;, score=0.079 total time=   3.5s\n",
      "[CV 3/5] END ...C=1, gamma=0.005, kernel=linear;, score=0.073 total time=   3.3s\n",
      "[CV 4/5] END ...C=1, gamma=0.005, kernel=linear;, score=0.073 total time=   4.0s\n",
      "[CV 5/5] END ...C=1, gamma=0.005, kernel=linear;, score=0.071 total time=   3.7s\n",
      "[CV 1/5] END ......C=1, gamma=0.005, kernel=rbf;, score=0.057 total time=   3.3s\n",
      "[CV 2/5] END ......C=1, gamma=0.005, kernel=rbf;, score=0.061 total time=   3.2s\n",
      "[CV 3/5] END ......C=1, gamma=0.005, kernel=rbf;, score=0.069 total time=   3.1s\n",
      "[CV 4/5] END ......C=1, gamma=0.005, kernel=rbf;, score=0.066 total time=   3.5s\n",
      "[CV 5/5] END ......C=1, gamma=0.005, kernel=rbf;, score=0.064 total time=   3.1s\n",
      "[CV 1/5] END .....C=1, gamma=0.5, kernel=linear;, score=0.060 total time=   3.3s\n",
      "[CV 2/5] END .....C=1, gamma=0.5, kernel=linear;, score=0.079 total time=   3.3s\n",
      "[CV 3/5] END .....C=1, gamma=0.5, kernel=linear;, score=0.073 total time=   3.5s\n",
      "[CV 4/5] END .....C=1, gamma=0.5, kernel=linear;, score=0.073 total time=   3.4s\n",
      "[CV 5/5] END .....C=1, gamma=0.5, kernel=linear;, score=0.071 total time=   3.3s\n",
      "[CV 1/5] END ........C=1, gamma=0.5, kernel=rbf;, score=0.064 total time=   4.5s\n",
      "[CV 2/5] END ........C=1, gamma=0.5, kernel=rbf;, score=0.076 total time=   4.8s\n",
      "[CV 3/5] END ........C=1, gamma=0.5, kernel=rbf;, score=0.051 total time=   4.5s\n",
      "[CV 4/5] END ........C=1, gamma=0.5, kernel=rbf;, score=0.077 total time=   4.4s\n",
      "[CV 5/5] END ........C=1, gamma=0.5, kernel=rbf;, score=0.083 total time=   4.5s\n",
      "[CV 1/5] END .C=10, gamma=0.0005, kernel=linear;, score=0.067 total time=   6.3s\n",
      "[CV 2/5] END .C=10, gamma=0.0005, kernel=linear;, score=0.069 total time=   5.4s\n",
      "[CV 3/5] END .C=10, gamma=0.0005, kernel=linear;, score=0.077 total time=   5.4s\n",
      "[CV 4/5] END .C=10, gamma=0.0005, kernel=linear;, score=0.071 total time=   5.6s\n",
      "[CV 5/5] END .C=10, gamma=0.0005, kernel=linear;, score=0.070 total time=   5.4s\n",
      "[CV 1/5] END ....C=10, gamma=0.0005, kernel=rbf;, score=0.057 total time=   3.2s\n",
      "[CV 2/5] END ....C=10, gamma=0.0005, kernel=rbf;, score=0.061 total time=   4.0s\n",
      "[CV 3/5] END ....C=10, gamma=0.0005, kernel=rbf;, score=0.069 total time=   3.6s\n",
      "[CV 4/5] END ....C=10, gamma=0.0005, kernel=rbf;, score=0.066 total time=   3.9s\n",
      "[CV 5/5] END ....C=10, gamma=0.0005, kernel=rbf;, score=0.064 total time=   3.5s\n",
      "[CV 1/5] END ..C=10, gamma=0.005, kernel=linear;, score=0.067 total time=   6.2s\n",
      "[CV 2/5] END ..C=10, gamma=0.005, kernel=linear;, score=0.069 total time=   5.5s\n",
      "[CV 3/5] END ..C=10, gamma=0.005, kernel=linear;, score=0.077 total time=   5.6s\n",
      "[CV 4/5] END ..C=10, gamma=0.005, kernel=linear;, score=0.071 total time=   6.2s\n",
      "[CV 5/5] END ..C=10, gamma=0.005, kernel=linear;, score=0.070 total time=   5.6s\n",
      "[CV 1/5] END .....C=10, gamma=0.005, kernel=rbf;, score=0.059 total time=   3.6s\n",
      "[CV 2/5] END .....C=10, gamma=0.005, kernel=rbf;, score=0.071 total time=   3.8s\n",
      "[CV 3/5] END .....C=10, gamma=0.005, kernel=rbf;, score=0.077 total time=   3.3s\n",
      "[CV 4/5] END .....C=10, gamma=0.005, kernel=rbf;, score=0.060 total time=   3.6s\n",
      "[CV 5/5] END .....C=10, gamma=0.005, kernel=rbf;, score=0.071 total time=   3.4s\n",
      "[CV 1/5] END ....C=10, gamma=0.5, kernel=linear;, score=0.067 total time=   7.0s\n",
      "[CV 2/5] END ....C=10, gamma=0.5, kernel=linear;, score=0.069 total time=   5.6s\n",
      "[CV 3/5] END ....C=10, gamma=0.5, kernel=linear;, score=0.077 total time=   5.3s\n",
      "[CV 4/5] END ....C=10, gamma=0.5, kernel=linear;, score=0.071 total time=   5.9s\n",
      "[CV 5/5] END ....C=10, gamma=0.5, kernel=linear;, score=0.070 total time=   6.5s\n",
      "[CV 1/5] END .......C=10, gamma=0.5, kernel=rbf;, score=0.057 total time=   5.6s\n",
      "[CV 2/5] END .......C=10, gamma=0.5, kernel=rbf;, score=0.057 total time=   5.6s\n",
      "[CV 3/5] END .......C=10, gamma=0.5, kernel=rbf;, score=0.037 total time=   4.8s\n",
      "[CV 4/5] END .......C=10, gamma=0.5, kernel=rbf;, score=0.066 total time=   7.1s\n",
      "[CV 5/5] END .......C=10, gamma=0.5, kernel=rbf;, score=0.073 total time=   5.1s\n",
      "[CV 1/5] END C=100, gamma=0.0005, kernel=linear;, score=0.063 total time=  22.6s\n",
      "[CV 2/5] END C=100, gamma=0.0005, kernel=linear;, score=0.067 total time=  21.7s\n",
      "[CV 3/5] END C=100, gamma=0.0005, kernel=linear;, score=0.063 total time=  20.8s\n",
      "[CV 4/5] END C=100, gamma=0.0005, kernel=linear;, score=0.069 total time=  18.4s\n",
      "[CV 5/5] END C=100, gamma=0.0005, kernel=linear;, score=0.069 total time=  20.9s\n",
      "[CV 1/5] END ...C=100, gamma=0.0005, kernel=rbf;, score=0.056 total time=   3.3s\n",
      "[CV 2/5] END ...C=100, gamma=0.0005, kernel=rbf;, score=0.074 total time=   3.4s\n",
      "[CV 3/5] END ...C=100, gamma=0.0005, kernel=rbf;, score=0.074 total time=   3.3s\n",
      "[CV 4/5] END ...C=100, gamma=0.0005, kernel=rbf;, score=0.061 total time=   3.4s\n",
      "[CV 5/5] END ...C=100, gamma=0.0005, kernel=rbf;, score=0.067 total time=   3.4s\n",
      "[CV 1/5] END .C=100, gamma=0.005, kernel=linear;, score=0.063 total time=  19.0s\n",
      "[CV 2/5] END .C=100, gamma=0.005, kernel=linear;, score=0.067 total time=  17.9s\n",
      "[CV 3/5] END .C=100, gamma=0.005, kernel=linear;, score=0.063 total time=  19.5s\n",
      "[CV 4/5] END .C=100, gamma=0.005, kernel=linear;, score=0.069 total time=  18.6s\n",
      "[CV 5/5] END .C=100, gamma=0.005, kernel=linear;, score=0.069 total time=  21.6s\n",
      "[CV 1/5] END ....C=100, gamma=0.005, kernel=rbf;, score=0.064 total time=   3.5s\n",
      "[CV 2/5] END ....C=100, gamma=0.005, kernel=rbf;, score=0.081 total time=   3.5s\n",
      "[CV 3/5] END ....C=100, gamma=0.005, kernel=rbf;, score=0.064 total time=   3.8s\n",
      "[CV 4/5] END ....C=100, gamma=0.005, kernel=rbf;, score=0.073 total time=   3.6s\n",
      "[CV 5/5] END ....C=100, gamma=0.005, kernel=rbf;, score=0.071 total time=   3.6s\n",
      "[CV 1/5] END ...C=100, gamma=0.5, kernel=linear;, score=0.063 total time=  19.7s\n",
      "[CV 2/5] END ...C=100, gamma=0.5, kernel=linear;, score=0.067 total time=  18.1s\n",
      "[CV 3/5] END ...C=100, gamma=0.5, kernel=linear;, score=0.063 total time=  19.8s\n",
      "[CV 4/5] END ...C=100, gamma=0.5, kernel=linear;, score=0.069 total time=  18.5s\n",
      "[CV 5/5] END ...C=100, gamma=0.5, kernel=linear;, score=0.069 total time=  20.4s\n",
      "[CV 1/5] END ......C=100, gamma=0.5, kernel=rbf;, score=0.050 total time=   4.3s\n",
      "[CV 2/5] END ......C=100, gamma=0.5, kernel=rbf;, score=0.050 total time=   4.8s\n",
      "[CV 3/5] END ......C=100, gamma=0.5, kernel=rbf;, score=0.036 total time=   4.2s\n",
      "[CV 4/5] END ......C=100, gamma=0.5, kernel=rbf;, score=0.051 total time=   4.2s\n",
      "[CV 5/5] END ......C=100, gamma=0.5, kernel=rbf;, score=0.074 total time=   4.2s\n"
     ]
    },
    {
     "data": {
      "text/plain": [
       "GridSearchCV(cv=5, estimator=SVC(),\n",
       "             param_grid={'C': [1, 10, 100], 'gamma': [0.0005, 0.005, 0.5],\n",
       "                         'kernel': ('linear', 'rbf')},\n",
       "             verbose=3)"
      ]
     },
     "execution_count": 35,
     "metadata": {},
     "output_type": "execute_result"
    }
   ],
   "source": [
    "clf=GridSearchCV(svc,param_grid=parameters,refit=True,cv=5,verbose=3)\n",
    "clf.fit(xtrain_scal, Y_train.ravel())"
   ]
  },
  {
   "cell_type": "code",
   "execution_count": 36,
   "metadata": {},
   "outputs": [
    {
     "data": {
      "text/html": [
       "<div>\n",
       "<style scoped>\n",
       "    .dataframe tbody tr th:only-of-type {\n",
       "        vertical-align: middle;\n",
       "    }\n",
       "\n",
       "    .dataframe tbody tr th {\n",
       "        vertical-align: top;\n",
       "    }\n",
       "\n",
       "    .dataframe thead th {\n",
       "        text-align: right;\n",
       "    }\n",
       "</style>\n",
       "<table border=\"1\" class=\"dataframe\">\n",
       "  <thead>\n",
       "    <tr style=\"text-align: right;\">\n",
       "      <th></th>\n",
       "      <th>mean_fit_time</th>\n",
       "      <th>std_fit_time</th>\n",
       "      <th>mean_score_time</th>\n",
       "      <th>std_score_time</th>\n",
       "      <th>param_C</th>\n",
       "      <th>param_gamma</th>\n",
       "      <th>param_kernel</th>\n",
       "      <th>params</th>\n",
       "      <th>split0_test_score</th>\n",
       "      <th>split1_test_score</th>\n",
       "      <th>split2_test_score</th>\n",
       "      <th>split3_test_score</th>\n",
       "      <th>split4_test_score</th>\n",
       "      <th>mean_test_score</th>\n",
       "      <th>std_test_score</th>\n",
       "      <th>rank_test_score</th>\n",
       "    </tr>\n",
       "  </thead>\n",
       "  <tbody>\n",
       "    <tr>\n",
       "      <th>0</th>\n",
       "      <td>2.324411</td>\n",
       "      <td>0.212989</td>\n",
       "      <td>1.214555</td>\n",
       "      <td>0.048418</td>\n",
       "      <td>1</td>\n",
       "      <td>0.0005</td>\n",
       "      <td>linear</td>\n",
       "      <td>{'C': 1, 'gamma': 0.0005, 'kernel': 'linear'}</td>\n",
       "      <td>0.060000</td>\n",
       "      <td>0.078571</td>\n",
       "      <td>0.072857</td>\n",
       "      <td>0.072857</td>\n",
       "      <td>0.071429</td>\n",
       "      <td>0.071143</td>\n",
       "      <td>0.006088</td>\n",
       "      <td>1</td>\n",
       "    </tr>\n",
       "    <tr>\n",
       "      <th>1</th>\n",
       "      <td>1.719293</td>\n",
       "      <td>0.215415</td>\n",
       "      <td>1.500987</td>\n",
       "      <td>0.104151</td>\n",
       "      <td>1</td>\n",
       "      <td>0.0005</td>\n",
       "      <td>rbf</td>\n",
       "      <td>{'C': 1, 'gamma': 0.0005, 'kernel': 'rbf'}</td>\n",
       "      <td>0.038571</td>\n",
       "      <td>0.040000</td>\n",
       "      <td>0.040000</td>\n",
       "      <td>0.040000</td>\n",
       "      <td>0.038571</td>\n",
       "      <td>0.039429</td>\n",
       "      <td>0.000700</td>\n",
       "      <td>18</td>\n",
       "    </tr>\n",
       "    <tr>\n",
       "      <th>2</th>\n",
       "      <td>2.324135</td>\n",
       "      <td>0.109423</td>\n",
       "      <td>1.366019</td>\n",
       "      <td>0.170327</td>\n",
       "      <td>1</td>\n",
       "      <td>0.005</td>\n",
       "      <td>linear</td>\n",
       "      <td>{'C': 1, 'gamma': 0.005, 'kernel': 'linear'}</td>\n",
       "      <td>0.060000</td>\n",
       "      <td>0.078571</td>\n",
       "      <td>0.072857</td>\n",
       "      <td>0.072857</td>\n",
       "      <td>0.071429</td>\n",
       "      <td>0.071143</td>\n",
       "      <td>0.006088</td>\n",
       "      <td>1</td>\n",
       "    </tr>\n",
       "    <tr>\n",
       "      <th>3</th>\n",
       "      <td>1.944414</td>\n",
       "      <td>0.145597</td>\n",
       "      <td>1.401650</td>\n",
       "      <td>0.019636</td>\n",
       "      <td>1</td>\n",
       "      <td>0.005</td>\n",
       "      <td>rbf</td>\n",
       "      <td>{'C': 1, 'gamma': 0.005, 'kernel': 'rbf'}</td>\n",
       "      <td>0.057143</td>\n",
       "      <td>0.061429</td>\n",
       "      <td>0.068571</td>\n",
       "      <td>0.065714</td>\n",
       "      <td>0.064286</td>\n",
       "      <td>0.063429</td>\n",
       "      <td>0.003897</td>\n",
       "      <td>14</td>\n",
       "    </tr>\n",
       "    <tr>\n",
       "      <th>4</th>\n",
       "      <td>2.209271</td>\n",
       "      <td>0.079915</td>\n",
       "      <td>1.251045</td>\n",
       "      <td>0.072793</td>\n",
       "      <td>1</td>\n",
       "      <td>0.5</td>\n",
       "      <td>linear</td>\n",
       "      <td>{'C': 1, 'gamma': 0.5, 'kernel': 'linear'}</td>\n",
       "      <td>0.060000</td>\n",
       "      <td>0.078571</td>\n",
       "      <td>0.072857</td>\n",
       "      <td>0.072857</td>\n",
       "      <td>0.071429</td>\n",
       "      <td>0.071143</td>\n",
       "      <td>0.006088</td>\n",
       "      <td>1</td>\n",
       "    </tr>\n",
       "  </tbody>\n",
       "</table>\n",
       "</div>"
      ],
      "text/plain": [
       "   mean_fit_time  std_fit_time  mean_score_time  std_score_time param_C  \\\n",
       "0       2.324411      0.212989         1.214555        0.048418       1   \n",
       "1       1.719293      0.215415         1.500987        0.104151       1   \n",
       "2       2.324135      0.109423         1.366019        0.170327       1   \n",
       "3       1.944414      0.145597         1.401650        0.019636       1   \n",
       "4       2.209271      0.079915         1.251045        0.072793       1   \n",
       "\n",
       "  param_gamma param_kernel                                         params  \\\n",
       "0      0.0005       linear  {'C': 1, 'gamma': 0.0005, 'kernel': 'linear'}   \n",
       "1      0.0005          rbf     {'C': 1, 'gamma': 0.0005, 'kernel': 'rbf'}   \n",
       "2       0.005       linear   {'C': 1, 'gamma': 0.005, 'kernel': 'linear'}   \n",
       "3       0.005          rbf      {'C': 1, 'gamma': 0.005, 'kernel': 'rbf'}   \n",
       "4         0.5       linear     {'C': 1, 'gamma': 0.5, 'kernel': 'linear'}   \n",
       "\n",
       "   split0_test_score  split1_test_score  split2_test_score  split3_test_score  \\\n",
       "0           0.060000           0.078571           0.072857           0.072857   \n",
       "1           0.038571           0.040000           0.040000           0.040000   \n",
       "2           0.060000           0.078571           0.072857           0.072857   \n",
       "3           0.057143           0.061429           0.068571           0.065714   \n",
       "4           0.060000           0.078571           0.072857           0.072857   \n",
       "\n",
       "   split4_test_score  mean_test_score  std_test_score  rank_test_score  \n",
       "0           0.071429         0.071143        0.006088                1  \n",
       "1           0.038571         0.039429        0.000700               18  \n",
       "2           0.071429         0.071143        0.006088                1  \n",
       "3           0.064286         0.063429        0.003897               14  \n",
       "4           0.071429         0.071143        0.006088                1  "
      ]
     },
     "execution_count": 36,
     "metadata": {},
     "output_type": "execute_result"
    }
   ],
   "source": [
    "scores=clf.cv_results_\n",
    "scores_df=pd.DataFrame.from_dict(scores)\n",
    "scores_df.head()"
   ]
  },
  {
   "cell_type": "markdown",
   "metadata": {
    "id": "YOuBv_mfkuYG"
   },
   "source": [
    "##### **Objetivo 11**\n",
    "\n",
    "Mostrar cuales fueron los mejores hiperparámetros y para estos obtener el mean_squared_error en el test set."
   ]
  },
  {
   "cell_type": "code",
   "execution_count": 37,
   "metadata": {
    "id": "HHwCIS0mNfhN"
   },
   "outputs": [
    {
     "name": "stdout",
     "output_type": "stream",
     "text": [
      "Los Mejores Parametros son {'C': 1, 'gamma': 0.0005, 'kernel': 'linear'} con un score de 0.07114\n"
     ]
    }
   ],
   "source": [
    "print(\"Los Mejores Parametros son %s con un score de %0.5f\" % (clf.best_params_, clf.best_score_))"
   ]
  },
  {
   "cell_type": "code",
   "execution_count": 38,
   "metadata": {
    "id": "vlMZBccQNfhN"
   },
   "outputs": [
    {
     "name": "stdout",
     "output_type": "stream",
     "text": [
      "[150  50 225 ...  45  45  35]\n"
     ]
    }
   ],
   "source": [
    "Yprediction2=clf.predict(xtest_scal)\n",
    "print(Yprediction2)"
   ]
  },
  {
   "cell_type": "code",
   "execution_count": 40,
   "metadata": {
    "id": "fc8mozfEkuYH"
   },
   "outputs": [
    {
     "data": {
      "text/plain": [
       "1664.934"
      ]
     },
     "execution_count": 40,
     "metadata": {},
     "output_type": "execute_result"
    }
   ],
   "source": [
    "(mean_squared_error(Y_test,Yprediction2))"
   ]
  },
  {
   "cell_type": "markdown",
   "metadata": {
    "id": "IJQSlAT_kuYH"
   },
   "source": [
    "##### **Objetivo 12**\n",
    "Repetir el objetivo 10 pero ahora seteando nuevos valores para los hiperparámetros mencionados con el objetivo de mejorar las predicciones.\n",
    "\n",
    "Cuales son los mejores hiperparámetros ahora?\n",
    "Obtenemos una mejora en las predicciones?\n",
    "Mostrar los resultados."
   ]
  },
  {
   "cell_type": "code",
   "execution_count": 47,
   "metadata": {
    "id": "LmYGwWhokuYI"
   },
   "outputs": [],
   "source": [
    "parameters2 = {'kernel':('linear','rbf'),\n",
    "             'C':[100,50,25],\n",
    "             'gamma':[0.000005,1,2]}"
   ]
  },
  {
   "cell_type": "code",
   "execution_count": 48,
   "metadata": {
    "id": "WyMHn-XYn5Uv"
   },
   "outputs": [
    {
     "name": "stdout",
     "output_type": "stream",
     "text": [
      "Fitting 5 folds for each of 18 candidates, totalling 90 fits\n"
     ]
    },
    {
     "name": "stderr",
     "output_type": "stream",
     "text": [
      "C:\\Users\\Bangho\\anaconda3\\lib\\site-packages\\sklearn\\model_selection\\_split.py:676: UserWarning: The least populated class in y has only 1 members, which is less than n_splits=5.\n",
      "  warnings.warn(\n"
     ]
    },
    {
     "name": "stdout",
     "output_type": "stream",
     "text": [
      "[CV 1/5] END .C=100, gamma=5e-06, kernel=linear;, score=0.063 total time=  18.8s\n",
      "[CV 2/5] END .C=100, gamma=5e-06, kernel=linear;, score=0.067 total time=  17.7s\n",
      "[CV 3/5] END .C=100, gamma=5e-06, kernel=linear;, score=0.063 total time=  18.9s\n",
      "[CV 4/5] END .C=100, gamma=5e-06, kernel=linear;, score=0.069 total time=  18.3s\n",
      "[CV 5/5] END .C=100, gamma=5e-06, kernel=linear;, score=0.069 total time=  19.9s\n",
      "[CV 1/5] END ....C=100, gamma=5e-06, kernel=rbf;, score=0.039 total time=   2.6s\n",
      "[CV 2/5] END ....C=100, gamma=5e-06, kernel=rbf;, score=0.040 total time=   2.6s\n",
      "[CV 3/5] END ....C=100, gamma=5e-06, kernel=rbf;, score=0.040 total time=   2.5s\n",
      "[CV 4/5] END ....C=100, gamma=5e-06, kernel=rbf;, score=0.040 total time=   3.0s\n",
      "[CV 5/5] END ....C=100, gamma=5e-06, kernel=rbf;, score=0.039 total time=   2.7s\n",
      "[CV 1/5] END .....C=100, gamma=1, kernel=linear;, score=0.063 total time=  18.6s\n",
      "[CV 2/5] END .....C=100, gamma=1, kernel=linear;, score=0.067 total time=  17.5s\n",
      "[CV 3/5] END .....C=100, gamma=1, kernel=linear;, score=0.063 total time=  19.4s\n",
      "[CV 4/5] END .....C=100, gamma=1, kernel=linear;, score=0.069 total time=  17.8s\n",
      "[CV 5/5] END .....C=100, gamma=1, kernel=linear;, score=0.069 total time=  20.2s\n",
      "[CV 1/5] END ........C=100, gamma=1, kernel=rbf;, score=0.054 total time=   4.7s\n",
      "[CV 2/5] END ........C=100, gamma=1, kernel=rbf;, score=0.056 total time=   4.8s\n",
      "[CV 3/5] END ........C=100, gamma=1, kernel=rbf;, score=0.041 total time=   4.7s\n",
      "[CV 4/5] END ........C=100, gamma=1, kernel=rbf;, score=0.054 total time=   4.7s\n",
      "[CV 5/5] END ........C=100, gamma=1, kernel=rbf;, score=0.073 total time=   4.7s\n",
      "[CV 1/5] END .....C=100, gamma=2, kernel=linear;, score=0.063 total time=  18.7s\n",
      "[CV 2/5] END .....C=100, gamma=2, kernel=linear;, score=0.067 total time=  18.4s\n",
      "[CV 3/5] END .....C=100, gamma=2, kernel=linear;, score=0.063 total time=  20.2s\n",
      "[CV 4/5] END .....C=100, gamma=2, kernel=linear;, score=0.069 total time=  18.1s\n",
      "[CV 5/5] END .....C=100, gamma=2, kernel=linear;, score=0.069 total time=  24.4s\n",
      "[CV 1/5] END ........C=100, gamma=2, kernel=rbf;, score=0.063 total time=   5.5s\n",
      "[CV 2/5] END ........C=100, gamma=2, kernel=rbf;, score=0.057 total time=   5.2s\n",
      "[CV 3/5] END ........C=100, gamma=2, kernel=rbf;, score=0.049 total time=   5.5s\n",
      "[CV 4/5] END ........C=100, gamma=2, kernel=rbf;, score=0.059 total time=   5.9s\n",
      "[CV 5/5] END ........C=100, gamma=2, kernel=rbf;, score=0.066 total time=   5.4s\n",
      "[CV 1/5] END ..C=50, gamma=5e-06, kernel=linear;, score=0.069 total time=  13.1s\n",
      "[CV 2/5] END ..C=50, gamma=5e-06, kernel=linear;, score=0.069 total time=  12.9s\n",
      "[CV 3/5] END ..C=50, gamma=5e-06, kernel=linear;, score=0.066 total time=  12.6s\n",
      "[CV 4/5] END ..C=50, gamma=5e-06, kernel=linear;, score=0.071 total time=  11.4s\n",
      "[CV 5/5] END ..C=50, gamma=5e-06, kernel=linear;, score=0.069 total time=  13.5s\n",
      "[CV 1/5] END .....C=50, gamma=5e-06, kernel=rbf;, score=0.039 total time=   4.1s\n",
      "[CV 2/5] END .....C=50, gamma=5e-06, kernel=rbf;, score=0.040 total time=   3.6s\n",
      "[CV 3/5] END .....C=50, gamma=5e-06, kernel=rbf;, score=0.040 total time=   2.6s\n",
      "[CV 4/5] END .....C=50, gamma=5e-06, kernel=rbf;, score=0.040 total time=   2.6s\n",
      "[CV 5/5] END .....C=50, gamma=5e-06, kernel=rbf;, score=0.039 total time=   2.6s\n",
      "[CV 1/5] END ......C=50, gamma=1, kernel=linear;, score=0.069 total time=  12.3s\n",
      "[CV 2/5] END ......C=50, gamma=1, kernel=linear;, score=0.069 total time=  13.3s\n",
      "[CV 3/5] END ......C=50, gamma=1, kernel=linear;, score=0.066 total time=  13.4s\n",
      "[CV 4/5] END ......C=50, gamma=1, kernel=linear;, score=0.071 total time=  12.8s\n",
      "[CV 5/5] END ......C=50, gamma=1, kernel=linear;, score=0.069 total time=  12.8s\n",
      "[CV 1/5] END .........C=50, gamma=1, kernel=rbf;, score=0.056 total time=   5.4s\n",
      "[CV 2/5] END .........C=50, gamma=1, kernel=rbf;, score=0.057 total time=   5.4s\n",
      "[CV 3/5] END .........C=50, gamma=1, kernel=rbf;, score=0.043 total time=   4.8s\n",
      "[CV 4/5] END .........C=50, gamma=1, kernel=rbf;, score=0.056 total time=   4.9s\n",
      "[CV 5/5] END .........C=50, gamma=1, kernel=rbf;, score=0.076 total time=   5.1s\n",
      "[CV 1/5] END ......C=50, gamma=2, kernel=linear;, score=0.069 total time=  12.0s\n",
      "[CV 2/5] END ......C=50, gamma=2, kernel=linear;, score=0.069 total time=  11.1s\n",
      "[CV 3/5] END ......C=50, gamma=2, kernel=linear;, score=0.066 total time=  11.8s\n",
      "[CV 4/5] END ......C=50, gamma=2, kernel=linear;, score=0.071 total time=  12.2s\n",
      "[CV 5/5] END ......C=50, gamma=2, kernel=linear;, score=0.069 total time=  12.1s\n",
      "[CV 1/5] END .........C=50, gamma=2, kernel=rbf;, score=0.061 total time=   5.0s\n",
      "[CV 2/5] END .........C=50, gamma=2, kernel=rbf;, score=0.057 total time=   4.9s\n",
      "[CV 3/5] END .........C=50, gamma=2, kernel=rbf;, score=0.047 total time=   5.0s\n",
      "[CV 4/5] END .........C=50, gamma=2, kernel=rbf;, score=0.057 total time=   5.0s\n",
      "[CV 5/5] END .........C=50, gamma=2, kernel=rbf;, score=0.066 total time=   4.9s\n",
      "[CV 1/5] END ..C=25, gamma=5e-06, kernel=linear;, score=0.067 total time=   7.8s\n",
      "[CV 2/5] END ..C=25, gamma=5e-06, kernel=linear;, score=0.069 total time=   7.6s\n",
      "[CV 3/5] END ..C=25, gamma=5e-06, kernel=linear;, score=0.073 total time=   8.3s\n",
      "[CV 4/5] END ..C=25, gamma=5e-06, kernel=linear;, score=0.074 total time=  12.4s\n",
      "[CV 5/5] END ..C=25, gamma=5e-06, kernel=linear;, score=0.064 total time=   9.8s\n",
      "[CV 1/5] END .....C=25, gamma=5e-06, kernel=rbf;, score=0.039 total time=   2.8s\n",
      "[CV 2/5] END .....C=25, gamma=5e-06, kernel=rbf;, score=0.040 total time=   3.1s\n",
      "[CV 3/5] END .....C=25, gamma=5e-06, kernel=rbf;, score=0.040 total time=   3.5s\n",
      "[CV 4/5] END .....C=25, gamma=5e-06, kernel=rbf;, score=0.040 total time=   2.5s\n",
      "[CV 5/5] END .....C=25, gamma=5e-06, kernel=rbf;, score=0.039 total time=   2.6s\n",
      "[CV 1/5] END ......C=25, gamma=1, kernel=linear;, score=0.067 total time=   7.8s\n",
      "[CV 2/5] END ......C=25, gamma=1, kernel=linear;, score=0.069 total time=   8.4s\n",
      "[CV 3/5] END ......C=25, gamma=1, kernel=linear;, score=0.073 total time=  10.0s\n",
      "[CV 4/5] END ......C=25, gamma=1, kernel=linear;, score=0.074 total time=   7.8s\n",
      "[CV 5/5] END ......C=25, gamma=1, kernel=linear;, score=0.064 total time=   8.9s\n",
      "[CV 1/5] END .........C=25, gamma=1, kernel=rbf;, score=0.056 total time=   4.8s\n",
      "[CV 2/5] END .........C=25, gamma=1, kernel=rbf;, score=0.059 total time=   5.2s\n",
      "[CV 3/5] END .........C=25, gamma=1, kernel=rbf;, score=0.041 total time=   5.5s\n",
      "[CV 4/5] END .........C=25, gamma=1, kernel=rbf;, score=0.051 total time=   5.0s\n",
      "[CV 5/5] END .........C=25, gamma=1, kernel=rbf;, score=0.070 total time=   5.4s\n",
      "[CV 1/5] END ......C=25, gamma=2, kernel=linear;, score=0.067 total time=   8.3s\n",
      "[CV 2/5] END ......C=25, gamma=2, kernel=linear;, score=0.069 total time=   7.8s\n",
      "[CV 3/5] END ......C=25, gamma=2, kernel=linear;, score=0.073 total time=   8.1s\n",
      "[CV 4/5] END ......C=25, gamma=2, kernel=linear;, score=0.074 total time=   7.2s\n",
      "[CV 5/5] END ......C=25, gamma=2, kernel=linear;, score=0.064 total time=   7.8s\n",
      "[CV 1/5] END .........C=25, gamma=2, kernel=rbf;, score=0.061 total time=   5.0s\n",
      "[CV 2/5] END .........C=25, gamma=2, kernel=rbf;, score=0.057 total time=   4.9s\n",
      "[CV 3/5] END .........C=25, gamma=2, kernel=rbf;, score=0.049 total time=   5.1s\n",
      "[CV 4/5] END .........C=25, gamma=2, kernel=rbf;, score=0.057 total time=   4.9s\n",
      "[CV 5/5] END .........C=25, gamma=2, kernel=rbf;, score=0.067 total time=   4.9s\n"
     ]
    },
    {
     "data": {
      "text/plain": [
       "GridSearchCV(cv=5, estimator=SVC(),\n",
       "             param_grid={'C': [100, 50, 25], 'gamma': [5e-06, 1, 2],\n",
       "                         'kernel': ('linear', 'rbf')},\n",
       "             verbose=3)"
      ]
     },
     "execution_count": 48,
     "metadata": {},
     "output_type": "execute_result"
    }
   ],
   "source": [
    "clf=GridSearchCV(svc,param_grid=parameters2,refit=True,cv=5,verbose=3)\n",
    "clf.fit(xtrain_scal, Y_train.ravel())"
   ]
  },
  {
   "cell_type": "code",
   "execution_count": 49,
   "metadata": {
    "id": "GyUOMDd7kuYI"
   },
   "outputs": [
    {
     "data": {
      "text/html": [
       "<div>\n",
       "<style scoped>\n",
       "    .dataframe tbody tr th:only-of-type {\n",
       "        vertical-align: middle;\n",
       "    }\n",
       "\n",
       "    .dataframe tbody tr th {\n",
       "        vertical-align: top;\n",
       "    }\n",
       "\n",
       "    .dataframe thead th {\n",
       "        text-align: right;\n",
       "    }\n",
       "</style>\n",
       "<table border=\"1\" class=\"dataframe\">\n",
       "  <thead>\n",
       "    <tr style=\"text-align: right;\">\n",
       "      <th></th>\n",
       "      <th>mean_fit_time</th>\n",
       "      <th>std_fit_time</th>\n",
       "      <th>mean_score_time</th>\n",
       "      <th>std_score_time</th>\n",
       "      <th>param_C</th>\n",
       "      <th>param_gamma</th>\n",
       "      <th>param_kernel</th>\n",
       "      <th>params</th>\n",
       "      <th>split0_test_score</th>\n",
       "      <th>split1_test_score</th>\n",
       "      <th>split2_test_score</th>\n",
       "      <th>split3_test_score</th>\n",
       "      <th>split4_test_score</th>\n",
       "      <th>mean_test_score</th>\n",
       "      <th>std_test_score</th>\n",
       "      <th>rank_test_score</th>\n",
       "    </tr>\n",
       "  </thead>\n",
       "  <tbody>\n",
       "    <tr>\n",
       "      <th>0</th>\n",
       "      <td>17.782863</td>\n",
       "      <td>0.750542</td>\n",
       "      <td>1.039908</td>\n",
       "      <td>0.059161</td>\n",
       "      <td>100</td>\n",
       "      <td>0.000005</td>\n",
       "      <td>linear</td>\n",
       "      <td>{'C': 100, 'gamma': 5e-06, 'kernel': 'linear'}</td>\n",
       "      <td>0.062857</td>\n",
       "      <td>0.067143</td>\n",
       "      <td>0.062857</td>\n",
       "      <td>0.068571</td>\n",
       "      <td>0.068571</td>\n",
       "      <td>0.066000</td>\n",
       "      <td>0.002619</td>\n",
       "      <td>7</td>\n",
       "    </tr>\n",
       "    <tr>\n",
       "      <th>1</th>\n",
       "      <td>1.496894</td>\n",
       "      <td>0.041956</td>\n",
       "      <td>1.274693</td>\n",
       "      <td>0.151240</td>\n",
       "      <td>100</td>\n",
       "      <td>0.000005</td>\n",
       "      <td>rbf</td>\n",
       "      <td>{'C': 100, 'gamma': 5e-06, 'kernel': 'rbf'}</td>\n",
       "      <td>0.038571</td>\n",
       "      <td>0.040000</td>\n",
       "      <td>0.040000</td>\n",
       "      <td>0.040000</td>\n",
       "      <td>0.038571</td>\n",
       "      <td>0.039429</td>\n",
       "      <td>0.000700</td>\n",
       "      <td>16</td>\n",
       "    </tr>\n",
       "    <tr>\n",
       "      <th>2</th>\n",
       "      <td>17.746224</td>\n",
       "      <td>0.938810</td>\n",
       "      <td>1.048049</td>\n",
       "      <td>0.087122</td>\n",
       "      <td>100</td>\n",
       "      <td>1</td>\n",
       "      <td>linear</td>\n",
       "      <td>{'C': 100, 'gamma': 1, 'kernel': 'linear'}</td>\n",
       "      <td>0.062857</td>\n",
       "      <td>0.067143</td>\n",
       "      <td>0.062857</td>\n",
       "      <td>0.068571</td>\n",
       "      <td>0.068571</td>\n",
       "      <td>0.066000</td>\n",
       "      <td>0.002619</td>\n",
       "      <td>7</td>\n",
       "    </tr>\n",
       "    <tr>\n",
       "      <th>3</th>\n",
       "      <td>3.593498</td>\n",
       "      <td>0.048095</td>\n",
       "      <td>1.229943</td>\n",
       "      <td>0.043503</td>\n",
       "      <td>100</td>\n",
       "      <td>1</td>\n",
       "      <td>rbf</td>\n",
       "      <td>{'C': 100, 'gamma': 1, 'kernel': 'rbf'}</td>\n",
       "      <td>0.054286</td>\n",
       "      <td>0.055714</td>\n",
       "      <td>0.041429</td>\n",
       "      <td>0.054286</td>\n",
       "      <td>0.072857</td>\n",
       "      <td>0.055714</td>\n",
       "      <td>0.010020</td>\n",
       "      <td>14</td>\n",
       "    </tr>\n",
       "    <tr>\n",
       "      <th>4</th>\n",
       "      <td>18.921373</td>\n",
       "      <td>2.242827</td>\n",
       "      <td>1.131145</td>\n",
       "      <td>0.134553</td>\n",
       "      <td>100</td>\n",
       "      <td>2</td>\n",
       "      <td>linear</td>\n",
       "      <td>{'C': 100, 'gamma': 2, 'kernel': 'linear'}</td>\n",
       "      <td>0.062857</td>\n",
       "      <td>0.067143</td>\n",
       "      <td>0.062857</td>\n",
       "      <td>0.068571</td>\n",
       "      <td>0.068571</td>\n",
       "      <td>0.066000</td>\n",
       "      <td>0.002619</td>\n",
       "      <td>7</td>\n",
       "    </tr>\n",
       "  </tbody>\n",
       "</table>\n",
       "</div>"
      ],
      "text/plain": [
       "   mean_fit_time  std_fit_time  mean_score_time  std_score_time param_C  \\\n",
       "0      17.782863      0.750542         1.039908        0.059161     100   \n",
       "1       1.496894      0.041956         1.274693        0.151240     100   \n",
       "2      17.746224      0.938810         1.048049        0.087122     100   \n",
       "3       3.593498      0.048095         1.229943        0.043503     100   \n",
       "4      18.921373      2.242827         1.131145        0.134553     100   \n",
       "\n",
       "  param_gamma param_kernel                                          params  \\\n",
       "0    0.000005       linear  {'C': 100, 'gamma': 5e-06, 'kernel': 'linear'}   \n",
       "1    0.000005          rbf     {'C': 100, 'gamma': 5e-06, 'kernel': 'rbf'}   \n",
       "2           1       linear      {'C': 100, 'gamma': 1, 'kernel': 'linear'}   \n",
       "3           1          rbf         {'C': 100, 'gamma': 1, 'kernel': 'rbf'}   \n",
       "4           2       linear      {'C': 100, 'gamma': 2, 'kernel': 'linear'}   \n",
       "\n",
       "   split0_test_score  split1_test_score  split2_test_score  split3_test_score  \\\n",
       "0           0.062857           0.067143           0.062857           0.068571   \n",
       "1           0.038571           0.040000           0.040000           0.040000   \n",
       "2           0.062857           0.067143           0.062857           0.068571   \n",
       "3           0.054286           0.055714           0.041429           0.054286   \n",
       "4           0.062857           0.067143           0.062857           0.068571   \n",
       "\n",
       "   split4_test_score  mean_test_score  std_test_score  rank_test_score  \n",
       "0           0.068571         0.066000        0.002619                7  \n",
       "1           0.038571         0.039429        0.000700               16  \n",
       "2           0.068571         0.066000        0.002619                7  \n",
       "3           0.072857         0.055714        0.010020               14  \n",
       "4           0.068571         0.066000        0.002619                7  "
      ]
     },
     "execution_count": 49,
     "metadata": {},
     "output_type": "execute_result"
    }
   ],
   "source": [
    "scores=clf.cv_results_\n",
    "scores_df=pd.DataFrame.from_dict(scores)\n",
    "scores_df.head()"
   ]
  },
  {
   "cell_type": "code",
   "execution_count": 50,
   "metadata": {
    "id": "ZJ0-nJNHkuYJ"
   },
   "outputs": [
    {
     "name": "stdout",
     "output_type": "stream",
     "text": [
      "Los Mejores Parametros son {'C': 25, 'gamma': 5e-06, 'kernel': 'linear'} con un score de 0.06943\n"
     ]
    }
   ],
   "source": [
    "print(\"Los Mejores Parametros son %s con un score de %0.5f\" % (clf.best_params_, clf.best_score_))"
   ]
  },
  {
   "cell_type": "code",
   "execution_count": 51,
   "metadata": {},
   "outputs": [
    {
     "name": "stdout",
     "output_type": "stream",
     "text": [
      "[ 95  50 225 ...  45  45  30]\n"
     ]
    }
   ],
   "source": [
    "Yprediction3=clf.predict(xtest_scal)\n",
    "print(Yprediction3)"
   ]
  },
  {
   "cell_type": "code",
   "execution_count": 52,
   "metadata": {},
   "outputs": [
    {
     "data": {
      "text/plain": [
       "2091.887333333333"
      ]
     },
     "execution_count": 52,
     "metadata": {},
     "output_type": "execute_result"
    }
   ],
   "source": [
    "(mean_squared_error(Y_test,Yprediction3))"
   ]
  },
  {
   "cell_type": "code",
   "execution_count": null,
   "metadata": {},
   "outputs": [],
   "source": []
  }
 ],
 "metadata": {
  "colab": {
   "provenance": []
  },
  "kernelspec": {
   "display_name": "Python 3 (ipykernel)",
   "language": "python",
   "name": "python3"
  },
  "language_info": {
   "codemirror_mode": {
    "name": "ipython",
    "version": 3
   },
   "file_extension": ".py",
   "mimetype": "text/x-python",
   "name": "python",
   "nbconvert_exporter": "python",
   "pygments_lexer": "ipython3",
   "version": "3.9.12"
  },
  "vscode": {
   "interpreter": {
    "hash": "c63d8c7d738c2960218a10995aedf0a7f67a49a231e71037adf0440953cdb45b"
   }
  }
 },
 "nbformat": 4,
 "nbformat_minor": 1
}
